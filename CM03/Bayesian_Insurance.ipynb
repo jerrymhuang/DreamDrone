{
 "cells": [
  {
   "cell_type": "code",
   "execution_count": 10,
   "metadata": {},
   "outputs": [],
   "source": [
    "import numpy as np\n",
    "import matplotlib.pyplot as plt\n",
    "import seaborn as sns\n",
    "import pandas as pd\n",
    "\n",
    "import arviz as az\n",
    "import stan\n",
    "\n",
    "from sklearn.linear_model import BayesianRidge\n",
    "from sklearn.utils import shuffle\n",
    "\n",
    "import nest_asyncio\n",
    "nest_asyncio.apply()"
   ]
  },
  {
   "cell_type": "markdown",
   "metadata": {},
   "source": [
    "# Bayesian Multiple Regression: an Insurance Model\n",
    "\n",
    "In this notebook, we implement a multiple Bayesian Linear Regression model. This model is used to fit the [Insurance Cost dataset](https://github.com/stedy/Machine-Learning-with-R-datasets/blob/master/insurance.csv), where we predict the insurance charges based upon a patient's BMI, age, and children count.\n",
    "\n",
    "This model is implemented in two ways: both in `Stan` and with `scikit-learn`'s Bayesian Ridge regression implementation."
   ]
  },
  {
   "cell_type": "markdown",
   "metadata": {},
   "source": [
    "## Part 0: Data Preprocessing"
   ]
  },
  {
   "cell_type": "code",
   "execution_count": 5,
   "metadata": {},
   "outputs": [],
   "source": [
    "# Reading in the data\n",
    "data = pd.read_csv('./data/insurance.csv', delimiter=\";\")"
   ]
  },
  {
   "cell_type": "code",
   "execution_count": 18,
   "metadata": {},
   "outputs": [
    {
     "data": {
      "text/html": [
       "<div>\n",
       "<style scoped>\n",
       "    .dataframe tbody tr th:only-of-type {\n",
       "        vertical-align: middle;\n",
       "    }\n",
       "\n",
       "    .dataframe tbody tr th {\n",
       "        vertical-align: top;\n",
       "    }\n",
       "\n",
       "    .dataframe thead th {\n",
       "        text-align: right;\n",
       "    }\n",
       "</style>\n",
       "<table border=\"1\" class=\"dataframe\">\n",
       "  <thead>\n",
       "    <tr style=\"text-align: right;\">\n",
       "      <th></th>\n",
       "      <th>age</th>\n",
       "      <th>sex</th>\n",
       "      <th>bmi</th>\n",
       "      <th>children</th>\n",
       "      <th>smoker</th>\n",
       "      <th>region</th>\n",
       "      <th>charges</th>\n",
       "    </tr>\n",
       "  </thead>\n",
       "  <tbody>\n",
       "    <tr>\n",
       "      <th>1226</th>\n",
       "      <td>38</td>\n",
       "      <td>male</td>\n",
       "      <td>16.815</td>\n",
       "      <td>2</td>\n",
       "      <td>no</td>\n",
       "      <td>northeast</td>\n",
       "      <td>6640.54485</td>\n",
       "    </tr>\n",
       "    <tr>\n",
       "      <th>856</th>\n",
       "      <td>48</td>\n",
       "      <td>female</td>\n",
       "      <td>33.110</td>\n",
       "      <td>0</td>\n",
       "      <td>yes</td>\n",
       "      <td>southeast</td>\n",
       "      <td>40974.16490</td>\n",
       "    </tr>\n",
       "    <tr>\n",
       "      <th>992</th>\n",
       "      <td>50</td>\n",
       "      <td>female</td>\n",
       "      <td>31.600</td>\n",
       "      <td>2</td>\n",
       "      <td>no</td>\n",
       "      <td>southwest</td>\n",
       "      <td>10118.42400</td>\n",
       "    </tr>\n",
       "    <tr>\n",
       "      <th>267</th>\n",
       "      <td>59</td>\n",
       "      <td>female</td>\n",
       "      <td>32.395</td>\n",
       "      <td>3</td>\n",
       "      <td>no</td>\n",
       "      <td>northeast</td>\n",
       "      <td>14590.63205</td>\n",
       "    </tr>\n",
       "    <tr>\n",
       "      <th>343</th>\n",
       "      <td>63</td>\n",
       "      <td>male</td>\n",
       "      <td>36.765</td>\n",
       "      <td>0</td>\n",
       "      <td>no</td>\n",
       "      <td>northeast</td>\n",
       "      <td>13981.85035</td>\n",
       "    </tr>\n",
       "  </tbody>\n",
       "</table>\n",
       "</div>"
      ],
      "text/plain": [
       "      age     sex     bmi  children smoker     region      charges\n",
       "1226   38    male  16.815         2     no  northeast   6640.54485\n",
       "856    48  female  33.110         0    yes  southeast  40974.16490\n",
       "992    50  female  31.600         2     no  southwest  10118.42400\n",
       "267    59  female  32.395         3     no  northeast  14590.63205\n",
       "343    63    male  36.765         0     no  northeast  13981.85035"
      ]
     },
     "execution_count": 18,
     "metadata": {},
     "output_type": "execute_result"
    }
   ],
   "source": [
    "# Inspecting the content of the data\n",
    "data.head()"
   ]
  },
  {
   "cell_type": "code",
   "execution_count": 17,
   "metadata": {},
   "outputs": [
    {
     "data": {
      "text/plain": [
       "(1338, 7)"
      ]
     },
     "execution_count": 17,
     "metadata": {},
     "output_type": "execute_result"
    }
   ],
   "source": [
    "# Inspecting how much data there is\n",
    "data.shape"
   ]
  },
  {
   "cell_type": "markdown",
   "metadata": {},
   "source": [
    "Here, we perform a train-test split by reshuffling the data and roughly split them so that 70% of the dataset is used for training."
   ]
  },
  {
   "cell_type": "code",
   "execution_count": 16,
   "metadata": {},
   "outputs": [],
   "source": [
    "# Perform a train-test split with a simple cutoff index 1000.\n",
    "data = shuffle(data)\n",
    "train_data = data[0:1000]\n",
    "test_data  = data[1000:]"
   ]
  },
  {
   "cell_type": "markdown",
   "metadata": {},
   "source": [
    "## Part 1: Generative Model\n",
    "\n",
    "Next, we will build a simple Bayesian regression model of the form:\n",
    "$$\n",
    "\\begin{align}\n",
    "    \\nonumber \\sigma &\\sim \\text{Inv-Gamma}(\\tau_0, \\tau_1)\\\\\n",
    "    \\nonumber \\alpha &\\sim \\mathrm{Normal}(0, \\sigma_\\alpha)\\\\\n",
    "    \\nonumber \\beta &\\sim \\mathrm{MultivariateNormal}(0, \\sigma_\\beta \\mathbb{I})\\\\\n",
    "\\nonumber y_n &\\sim \\mathrm{Normal}(\\alpha + \\beta\\,x_n^T, \\sigma) \\quad \\text{for} \\,\\, n = 1,\\dots,N\n",
    "\\end{align}\n",
    "$$"
   ]
  },
  {
   "cell_type": "code",
   "execution_count": 8,
   "metadata": {},
   "outputs": [],
   "source": [
    "insurance_code = \"\"\" \n",
    "data {\n",
    "    int<lower=1> N;\n",
    "    vector[N] x;\n",
    "    vector[N] y;\n",
    "}\n",
    "\n",
    "parameters {\n",
    "    real alpha;\n",
    "    real beta;\n",
    "    real<lower=0> sigma2;\n",
    "}\n",
    "\n",
    "transformed parameters {\n",
    "    real sigma;\n",
    "    sigma = sqrt(sigma2);\n",
    "}\n",
    "\n",
    "model {\n",
    "    // Priors\n",
    "    alpha ~ normal(0, 10);\n",
    "    beta ~ normal(0, 10);\n",
    "    sigma2 ~ inv_gamma(1, 1);\n",
    "\n",
    "    // Likelihood\n",
    "    y ~ normal(alpha + beta * x, sigma2);\n",
    "}\n",
    "\"\"\""
   ]
  },
  {
   "cell_type": "markdown",
   "metadata": {},
   "source": []
  }
 ],
 "metadata": {
  "kernelspec": {
   "display_name": "Python 3",
   "language": "python",
   "name": "python3"
  },
  "language_info": {
   "codemirror_mode": {
    "name": "ipython",
    "version": 3
   },
   "file_extension": ".py",
   "mimetype": "text/x-python",
   "name": "python",
   "nbconvert_exporter": "python",
   "pygments_lexer": "ipython3",
   "version": "3.10.12"
  }
 },
 "nbformat": 4,
 "nbformat_minor": 2
}
