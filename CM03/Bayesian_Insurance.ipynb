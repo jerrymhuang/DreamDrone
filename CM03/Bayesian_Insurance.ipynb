{
 "cells": [
  {
   "cell_type": "code",
   "execution_count": 10,
   "metadata": {},
   "outputs": [],
   "source": [
    "import numpy as np\n",
    "import matplotlib.pyplot as plt\n",
    "import seaborn as sns\n",
    "import pandas as pd\n",
    "\n",
    "import arviz as az\n",
    "import stan\n",
    "\n",
    "from sklearn.linear_model import BayesianRidge\n",
    "from sklearn.utils import shuffle\n",
    "\n",
    "import nest_asyncio\n",
    "nest_asyncio.apply()"
   ]
  },
  {
   "cell_type": "markdown",
   "metadata": {},
   "source": [
    "# Bayesian Multiple Regression: an Insurance Model\n",
    "\n",
    "In this notebook, we implement a multiple Bayesian Linear Regression model. This model is used to fit the [Insurance Cost dataset](https://github.com/stedy/Machine-Learning-with-R-datasets/blob/master/insurance.csv), where we predict the insurance charges based upon a patient's BMI, age, and children count.\n",
    "\n",
    "This model is implemented in two ways: both in `Stan` and with `scikit-learn`'s Bayesian Ridge regression implementation."
   ]
  },
  {
   "cell_type": "markdown",
   "metadata": {},
   "source": [
    "## Part 0: Data Exploration"
   ]
  },
  {
   "cell_type": "code",
   "execution_count": 5,
   "metadata": {},
   "outputs": [],
   "source": [
    "data = pd.read_csv('./data/insurance.csv', delimiter=\";\")"
   ]
  },
  {
   "cell_type": "code",
   "execution_count": 9,
   "metadata": {},
   "outputs": [
    {
     "data": {
      "text/plain": [
       "(1338, 7)"
      ]
     },
     "execution_count": 9,
     "metadata": {},
     "output_type": "execute_result"
    }
   ],
   "source": [
    "data.shape"
   ]
  },
  {
   "cell_type": "code",
   "execution_count": 15,
   "metadata": {},
   "outputs": [
    {
     "data": {
      "text/plain": [
       "(338, 7)"
      ]
     },
     "execution_count": 15,
     "metadata": {},
     "output_type": "execute_result"
    }
   ],
   "source": [
    "# Perform a train-test split\n",
    "data = shuffle(data)\n",
    "train_data = data[0:1000]\n",
    "test_data  = data[1000:]"
   ]
  },
  {
   "cell_type": "markdown",
   "metadata": {},
   "source": [
    "## Part 1: Generative Model\n",
    "\n",
    "Next, we will build a simple Bayesian regression model of the form:\n",
    "$$\n",
    "\\begin{align}\n",
    "    \\nonumber \\sigma &\\sim \\text{Inv-Gamma}(\\tau_0, \\tau_1)\\\\\n",
    "    \\nonumber \\alpha &\\sim \\mathrm{Normal}(0, \\sigma_\\alpha)\\\\\n",
    "    \\nonumber \\beta &\\sim \\mathrm{MultivariateNormal}(0, \\sigma_\\beta \\mathbb{I})\\\\\n",
    "\\nonumber y_n &\\sim \\mathrm{Normal}(\\alpha + \\beta\\,x_n^T, \\sigma) \\quad \\text{for} \\,\\, n = 1,\\dots,N\n",
    "\\end{align}\n",
    "$$"
   ]
  },
  {
   "cell_type": "code",
   "execution_count": 8,
   "metadata": {},
   "outputs": [],
   "source": [
    "insurance_code = \"\"\" \n",
    "data {\n",
    "    int<lower=1> N;\n",
    "    vector[N] x;\n",
    "    vector[N] y;\n",
    "}\n",
    "\n",
    "parameters {\n",
    "    real alpha;\n",
    "    real beta;\n",
    "    real<lower=0> sigma2;\n",
    "}\n",
    "\n",
    "transformed parameters {\n",
    "    real sigma;\n",
    "    sigma = sqrt(sigma2);\n",
    "}\n",
    "\n",
    "model {\n",
    "    // Priors\n",
    "    alpha ~ normal(0, 10);\n",
    "    beta ~ normal(0, 10);\n",
    "    sigma2 ~ inv_gamma(1, 1);\n",
    "\n",
    "    // Likelihood\n",
    "    y ~ normal(alpha + beta * x, sigma2);\n",
    "}\n",
    "\"\"\""
   ]
  },
  {
   "cell_type": "markdown",
   "metadata": {},
   "source": []
  }
 ],
 "metadata": {
  "kernelspec": {
   "display_name": "Python 3",
   "language": "python",
   "name": "python3"
  },
  "language_info": {
   "codemirror_mode": {
    "name": "ipython",
    "version": 3
   },
   "file_extension": ".py",
   "mimetype": "text/x-python",
   "name": "python",
   "nbconvert_exporter": "python",
   "pygments_lexer": "ipython3",
   "version": "3.10.12"
  }
 },
 "nbformat": 4,
 "nbformat_minor": 2
}
