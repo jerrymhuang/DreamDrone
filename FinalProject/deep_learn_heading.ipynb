{
 "cells": [
  {
   "cell_type": "code",
   "execution_count": 2,
   "id": "264ec8af",
   "metadata": {},
   "outputs": [
    {
     "name": "stderr",
     "output_type": "stream",
     "text": [
      "2024-04-22 15:31:10.049412: I tensorflow/core/util/port.cc:113] oneDNN custom operations are on. You may see slightly different numerical results due to floating-point round-off errors from different computation orders. To turn them off, set the environment variable `TF_ENABLE_ONEDNN_OPTS=0`.\n",
      "2024-04-22 15:31:10.050079: I external/local_tsl/tsl/cuda/cudart_stub.cc:32] Could not find cuda drivers on your machine, GPU will not be used.\n",
      "2024-04-22 15:31:10.053580: I external/local_tsl/tsl/cuda/cudart_stub.cc:32] Could not find cuda drivers on your machine, GPU will not be used.\n",
      "2024-04-22 15:31:10.096629: I tensorflow/core/platform/cpu_feature_guard.cc:210] This TensorFlow binary is optimized to use available CPU instructions in performance-critical operations.\n",
      "To enable the following instructions: AVX2 AVX512F AVX512_VNNI AVX512_BF16 FMA, in other operations, rebuild TensorFlow with the appropriate compiler flags.\n",
      "2024-04-22 15:31:10.869926: W tensorflow/compiler/tf2tensorrt/utils/py_utils.cc:38] TF-TRT Warning: Could not find TensorRT\n"
     ]
    }
   ],
   "source": [
    "import numpy as np\n",
    "import matplotlib.pyplot as plt\n",
    "import seaborn as sns\n",
    "import pandas as pd\n",
    "\n",
    "import sklearn.metrics as metrics\n",
    "from sklearn.model_selection import train_test_split\n",
    "\n",
    "import tensorflow as tf\n",
    "from tensorflow import keras\n",
    "from tensorflow.keras import backend as back"
   ]
  },
  {
   "cell_type": "markdown",
   "id": "e42763d6",
   "metadata": {},
   "source": [
    "First, the cleaned data is read in from the csv."
   ]
  },
  {
   "cell_type": "code",
   "execution_count": 3,
   "id": "9f90d520",
   "metadata": {},
   "outputs": [],
   "source": [
    "ang = pd.read_csv('full_data.csv', usecols=['Ang_Pos'])\n",
    "gaze = pd.read_csv('full_data.csv', usecols=['Gaze.x.', 'Gaze.y.'])"
   ]
  },
  {
   "cell_type": "markdown",
   "id": "a4f0a287",
   "metadata": {},
   "source": [
    "Then, the data is randomly split into train/test portions, normalized, and converted to a format that can be input to keras."
   ]
  },
  {
   "cell_type": "code",
   "execution_count": 18,
   "id": "9abf5861",
   "metadata": {},
   "outputs": [],
   "source": [
    "ang_train, ang_test, gaze_train, gaze_test = train_test_split(ang, gaze, test_size=0.33)\n",
    "\n",
    "ang_train = (ang_train + 360) / 360\n",
    "ang_test = (ang_test + 360) / 360\n",
    "\n",
    "ang_train = ang_train.astype(np.float32).to_numpy()\n",
    "ang_test = ang_test.astype(np.float32).to_numpy()\n",
    "\n",
    "gaze_train['Gaze.x.'] = gaze_train['Gaze.x.'] / 2560\n",
    "gaze_train['Gaze.y.'] = gaze_train['Gaze.y.'] / 1080\n",
    "\n",
    "gaze_test['Gaze.x.'] = gaze_test['Gaze.x.'] / 2560\n",
    "gaze_test['Gaze.y.'] = gaze_test['Gaze.y.'] / 1080\n",
    "\n",
    "gaze_train = gaze_train.astype(np.float32).to_numpy()\n",
    "gaze_test = gaze_test.astype(np.float32).to_numpy()"
   ]
  },
  {
   "cell_type": "code",
   "execution_count": 99,
   "id": "f292aa74",
   "metadata": {},
   "outputs": [
    {
     "data": {
      "text/plain": [
       "(0.38541603, 1.5667822)"
      ]
     },
     "execution_count": 99,
     "metadata": {},
     "output_type": "execute_result"
    }
   ],
   "source": [
    "ang_train.min(), ang_train.max()"
   ]
  },
  {
   "cell_type": "code",
   "execution_count": 15,
   "id": "a27f1d52",
   "metadata": {
    "scrolled": true
   },
   "outputs": [
    {
     "data": {
      "text/plain": [
       "array([[0.20105118, 0.42415518],\n",
       "       [0.6019383 , 0.42015362],\n",
       "       [0.55646795, 0.43415287],\n",
       "       ...,\n",
       "       [0.5265566 , 0.36817566],\n",
       "       [0.7167371 , 0.43375805],\n",
       "       [0.5009469 , 0.40607992]], dtype=float32)"
      ]
     },
     "execution_count": 15,
     "metadata": {},
     "output_type": "execute_result"
    }
   ],
   "source": [
    "gaze_test"
   ]
  },
  {
   "cell_type": "markdown",
   "id": "f3902f37",
   "metadata": {},
   "source": [
    "The model has four fully connected RELU layers, which was able to achieve reasonable accuracy without running extremely slowly. The output layer also RELU, since sigmoid only returns values (0, 1) and softmax isn't applicable to 1-dim arrays.\n",
    "\n",
    "Adam is a widely useful optimizer and mean_absolute_percentage_error was the most effective with our non-categorical data."
   ]
  },
  {
   "cell_type": "code",
   "execution_count": 8,
   "id": "0acf54e8",
   "metadata": {
    "scrolled": true
   },
   "outputs": [
    {
     "name": "stdout",
     "output_type": "stream",
     "text": [
      "Epoch 1/50\n",
      "\u001b[1m4092/4092\u001b[0m \u001b[32m━━━━━━━━━━━━━━━━━━━━\u001b[0m\u001b[37m\u001b[0m \u001b[1m4s\u001b[0m 761us/step - loss: 32.6800 - mean_absolute_percentage_error: 32.6800 - val_loss: 22.4103 - val_mean_absolute_percentage_error: 22.4000\n",
      "Epoch 2/50\n",
      "\u001b[1m4092/4092\u001b[0m \u001b[32m━━━━━━━━━━━━━━━━━━━━\u001b[0m\u001b[37m\u001b[0m \u001b[1m3s\u001b[0m 729us/step - loss: 21.9678 - mean_absolute_percentage_error: 21.9678 - val_loss: 21.3960 - val_mean_absolute_percentage_error: 21.3893\n",
      "Epoch 3/50\n",
      "\u001b[1m4092/4092\u001b[0m \u001b[32m━━━━━━━━━━━━━━━━━━━━\u001b[0m\u001b[37m\u001b[0m \u001b[1m3s\u001b[0m 728us/step - loss: 21.7233 - mean_absolute_percentage_error: 21.7233 - val_loss: 21.4563 - val_mean_absolute_percentage_error: 21.4506\n",
      "Epoch 4/50\n",
      "\u001b[1m4092/4092\u001b[0m \u001b[32m━━━━━━━━━━━━━━━━━━━━\u001b[0m\u001b[37m\u001b[0m \u001b[1m3s\u001b[0m 723us/step - loss: 21.5256 - mean_absolute_percentage_error: 21.5256 - val_loss: 22.0803 - val_mean_absolute_percentage_error: 22.0785\n",
      "Epoch 5/50\n",
      "\u001b[1m4092/4092\u001b[0m \u001b[32m━━━━━━━━━━━━━━━━━━━━\u001b[0m\u001b[37m\u001b[0m \u001b[1m3s\u001b[0m 719us/step - loss: 21.4849 - mean_absolute_percentage_error: 21.4849 - val_loss: 21.2493 - val_mean_absolute_percentage_error: 21.2442\n",
      "Epoch 6/50\n",
      "\u001b[1m4092/4092\u001b[0m \u001b[32m━━━━━━━━━━━━━━━━━━━━\u001b[0m\u001b[37m\u001b[0m \u001b[1m3s\u001b[0m 727us/step - loss: 21.4100 - mean_absolute_percentage_error: 21.4100 - val_loss: 20.9917 - val_mean_absolute_percentage_error: 20.9870\n",
      "Epoch 7/50\n",
      "\u001b[1m4092/4092\u001b[0m \u001b[32m━━━━━━━━━━━━━━━━━━━━\u001b[0m\u001b[37m\u001b[0m \u001b[1m3s\u001b[0m 733us/step - loss: 21.3513 - mean_absolute_percentage_error: 21.3513 - val_loss: 21.4571 - val_mean_absolute_percentage_error: 21.4501\n",
      "Epoch 8/50\n",
      "\u001b[1m4092/4092\u001b[0m \u001b[32m━━━━━━━━━━━━━━━━━━━━\u001b[0m\u001b[37m\u001b[0m \u001b[1m3s\u001b[0m 729us/step - loss: 21.1937 - mean_absolute_percentage_error: 21.1937 - val_loss: 20.8016 - val_mean_absolute_percentage_error: 20.7975\n",
      "Epoch 9/50\n",
      "\u001b[1m4092/4092\u001b[0m \u001b[32m━━━━━━━━━━━━━━━━━━━━\u001b[0m\u001b[37m\u001b[0m \u001b[1m3s\u001b[0m 738us/step - loss: 21.1931 - mean_absolute_percentage_error: 21.1931 - val_loss: 21.4377 - val_mean_absolute_percentage_error: 21.4344\n",
      "Epoch 10/50\n",
      "\u001b[1m4092/4092\u001b[0m \u001b[32m━━━━━━━━━━━━━━━━━━━━\u001b[0m\u001b[37m\u001b[0m \u001b[1m3s\u001b[0m 730us/step - loss: 21.2300 - mean_absolute_percentage_error: 21.2300 - val_loss: 20.9555 - val_mean_absolute_percentage_error: 20.9513\n",
      "Epoch 11/50\n",
      "\u001b[1m4092/4092\u001b[0m \u001b[32m━━━━━━━━━━━━━━━━━━━━\u001b[0m\u001b[37m\u001b[0m \u001b[1m3s\u001b[0m 729us/step - loss: 20.9901 - mean_absolute_percentage_error: 20.9901 - val_loss: 20.9408 - val_mean_absolute_percentage_error: 20.9359\n",
      "Epoch 12/50\n",
      "\u001b[1m4092/4092\u001b[0m \u001b[32m━━━━━━━━━━━━━━━━━━━━\u001b[0m\u001b[37m\u001b[0m \u001b[1m3s\u001b[0m 724us/step - loss: 21.1319 - mean_absolute_percentage_error: 21.1319 - val_loss: 20.6340 - val_mean_absolute_percentage_error: 20.6283\n",
      "Epoch 13/50\n",
      "\u001b[1m4092/4092\u001b[0m \u001b[32m━━━━━━━━━━━━━━━━━━━━\u001b[0m\u001b[37m\u001b[0m \u001b[1m3s\u001b[0m 733us/step - loss: 21.0528 - mean_absolute_percentage_error: 21.0528 - val_loss: 20.6686 - val_mean_absolute_percentage_error: 20.6623\n",
      "Epoch 14/50\n",
      "\u001b[1m4092/4092\u001b[0m \u001b[32m━━━━━━━━━━━━━━━━━━━━\u001b[0m\u001b[37m\u001b[0m \u001b[1m3s\u001b[0m 741us/step - loss: 20.9485 - mean_absolute_percentage_error: 20.9485 - val_loss: 20.7460 - val_mean_absolute_percentage_error: 20.7414\n",
      "Epoch 15/50\n",
      "\u001b[1m4092/4092\u001b[0m \u001b[32m━━━━━━━━━━━━━━━━━━━━\u001b[0m\u001b[37m\u001b[0m \u001b[1m3s\u001b[0m 752us/step - loss: 21.0376 - mean_absolute_percentage_error: 21.0376 - val_loss: 20.6317 - val_mean_absolute_percentage_error: 20.6274\n",
      "Epoch 16/50\n",
      "\u001b[1m4092/4092\u001b[0m \u001b[32m━━━━━━━━━━━━━━━━━━━━\u001b[0m\u001b[37m\u001b[0m \u001b[1m3s\u001b[0m 763us/step - loss: 20.9825 - mean_absolute_percentage_error: 20.9825 - val_loss: 20.5959 - val_mean_absolute_percentage_error: 20.5897\n",
      "Epoch 17/50\n",
      "\u001b[1m4092/4092\u001b[0m \u001b[32m━━━━━━━━━━━━━━━━━━━━\u001b[0m\u001b[37m\u001b[0m \u001b[1m3s\u001b[0m 746us/step - loss: 20.8979 - mean_absolute_percentage_error: 20.8979 - val_loss: 20.6184 - val_mean_absolute_percentage_error: 20.6148\n",
      "Epoch 18/50\n",
      "\u001b[1m4092/4092\u001b[0m \u001b[32m━━━━━━━━━━━━━━━━━━━━\u001b[0m\u001b[37m\u001b[0m \u001b[1m3s\u001b[0m 743us/step - loss: 20.9190 - mean_absolute_percentage_error: 20.9190 - val_loss: 20.5047 - val_mean_absolute_percentage_error: 20.4978\n",
      "Epoch 19/50\n",
      "\u001b[1m4092/4092\u001b[0m \u001b[32m━━━━━━━━━━━━━━━━━━━━\u001b[0m\u001b[37m\u001b[0m \u001b[1m3s\u001b[0m 735us/step - loss: 20.9250 - mean_absolute_percentage_error: 20.9250 - val_loss: 20.3941 - val_mean_absolute_percentage_error: 20.3882\n",
      "Epoch 20/50\n",
      "\u001b[1m4092/4092\u001b[0m \u001b[32m━━━━━━━━━━━━━━━━━━━━\u001b[0m\u001b[37m\u001b[0m \u001b[1m3s\u001b[0m 737us/step - loss: 20.9112 - mean_absolute_percentage_error: 20.9112 - val_loss: 20.4089 - val_mean_absolute_percentage_error: 20.4037\n",
      "Epoch 21/50\n",
      "\u001b[1m4092/4092\u001b[0m \u001b[32m━━━━━━━━━━━━━━━━━━━━\u001b[0m\u001b[37m\u001b[0m \u001b[1m3s\u001b[0m 726us/step - loss: 20.9027 - mean_absolute_percentage_error: 20.9027 - val_loss: 20.3116 - val_mean_absolute_percentage_error: 20.3069\n",
      "Epoch 22/50\n",
      "\u001b[1m4092/4092\u001b[0m \u001b[32m━━━━━━━━━━━━━━━━━━━━\u001b[0m\u001b[37m\u001b[0m \u001b[1m3s\u001b[0m 723us/step - loss: 20.8638 - mean_absolute_percentage_error: 20.8638 - val_loss: 20.3412 - val_mean_absolute_percentage_error: 20.3345\n",
      "Epoch 23/50\n",
      "\u001b[1m4092/4092\u001b[0m \u001b[32m━━━━━━━━━━━━━━━━━━━━\u001b[0m\u001b[37m\u001b[0m \u001b[1m3s\u001b[0m 715us/step - loss: 20.8417 - mean_absolute_percentage_error: 20.8417 - val_loss: 20.4745 - val_mean_absolute_percentage_error: 20.4696\n",
      "Epoch 24/50\n",
      "\u001b[1m4092/4092\u001b[0m \u001b[32m━━━━━━━━━━━━━━━━━━━━\u001b[0m\u001b[37m\u001b[0m \u001b[1m3s\u001b[0m 725us/step - loss: 20.7055 - mean_absolute_percentage_error: 20.7055 - val_loss: 20.3525 - val_mean_absolute_percentage_error: 20.3475\n",
      "Epoch 25/50\n",
      "\u001b[1m4092/4092\u001b[0m \u001b[32m━━━━━━━━━━━━━━━━━━━━\u001b[0m\u001b[37m\u001b[0m \u001b[1m3s\u001b[0m 718us/step - loss: 20.8105 - mean_absolute_percentage_error: 20.8105 - val_loss: 20.5072 - val_mean_absolute_percentage_error: 20.5045\n",
      "Epoch 26/50\n",
      "\u001b[1m4092/4092\u001b[0m \u001b[32m━━━━━━━━━━━━━━━━━━━━\u001b[0m\u001b[37m\u001b[0m \u001b[1m3s\u001b[0m 720us/step - loss: 20.7308 - mean_absolute_percentage_error: 20.7308 - val_loss: 20.5967 - val_mean_absolute_percentage_error: 20.5937\n",
      "Epoch 27/50\n",
      "\u001b[1m4092/4092\u001b[0m \u001b[32m━━━━━━━━━━━━━━━━━━━━\u001b[0m\u001b[37m\u001b[0m \u001b[1m3s\u001b[0m 722us/step - loss: 20.7248 - mean_absolute_percentage_error: 20.7248 - val_loss: 20.2279 - val_mean_absolute_percentage_error: 20.2225\n",
      "Epoch 28/50\n",
      "\u001b[1m4092/4092\u001b[0m \u001b[32m━━━━━━━━━━━━━━━━━━━━\u001b[0m\u001b[37m\u001b[0m \u001b[1m3s\u001b[0m 699us/step - loss: 20.7180 - mean_absolute_percentage_error: 20.7180 - val_loss: 20.1756 - val_mean_absolute_percentage_error: 20.1715\n",
      "Epoch 29/50\n",
      "\u001b[1m4092/4092\u001b[0m \u001b[32m━━━━━━━━━━━━━━━━━━━━\u001b[0m\u001b[37m\u001b[0m \u001b[1m3s\u001b[0m 698us/step - loss: 20.7199 - mean_absolute_percentage_error: 20.7199 - val_loss: 20.4093 - val_mean_absolute_percentage_error: 20.4058\n",
      "Epoch 30/50\n",
      "\u001b[1m4092/4092\u001b[0m \u001b[32m━━━━━━━━━━━━━━━━━━━━\u001b[0m\u001b[37m\u001b[0m \u001b[1m3s\u001b[0m 702us/step - loss: 20.5834 - mean_absolute_percentage_error: 20.5834 - val_loss: 20.0798 - val_mean_absolute_percentage_error: 20.0758\n",
      "Epoch 31/50\n",
      "\u001b[1m4092/4092\u001b[0m \u001b[32m━━━━━━━━━━━━━━━━━━━━\u001b[0m\u001b[37m\u001b[0m \u001b[1m3s\u001b[0m 726us/step - loss: 20.6524 - mean_absolute_percentage_error: 20.6524 - val_loss: 20.1506 - val_mean_absolute_percentage_error: 20.1465\n",
      "Epoch 32/50\n",
      "\u001b[1m4092/4092\u001b[0m \u001b[32m━━━━━━━━━━━━━━━━━━━━\u001b[0m\u001b[37m\u001b[0m \u001b[1m3s\u001b[0m 721us/step - loss: 20.6763 - mean_absolute_percentage_error: 20.6763 - val_loss: 20.1553 - val_mean_absolute_percentage_error: 20.1518\n",
      "Epoch 33/50\n",
      "\u001b[1m4092/4092\u001b[0m \u001b[32m━━━━━━━━━━━━━━━━━━━━\u001b[0m\u001b[37m\u001b[0m \u001b[1m3s\u001b[0m 758us/step - loss: 20.6619 - mean_absolute_percentage_error: 20.6619 - val_loss: 20.0599 - val_mean_absolute_percentage_error: 20.0568\n",
      "Epoch 34/50\n",
      "\u001b[1m4092/4092\u001b[0m \u001b[32m━━━━━━━━━━━━━━━━━━━━\u001b[0m\u001b[37m\u001b[0m \u001b[1m3s\u001b[0m 719us/step - loss: 20.6055 - mean_absolute_percentage_error: 20.6055 - val_loss: 20.1394 - val_mean_absolute_percentage_error: 20.1358\n",
      "Epoch 35/50\n",
      "\u001b[1m4092/4092\u001b[0m \u001b[32m━━━━━━━━━━━━━━━━━━━━\u001b[0m\u001b[37m\u001b[0m \u001b[1m3s\u001b[0m 707us/step - loss: 20.6513 - mean_absolute_percentage_error: 20.6513 - val_loss: 20.0813 - val_mean_absolute_percentage_error: 20.0777\n",
      "Epoch 36/50\n",
      "\u001b[1m4092/4092\u001b[0m \u001b[32m━━━━━━━━━━━━━━━━━━━━\u001b[0m\u001b[37m\u001b[0m \u001b[1m3s\u001b[0m 709us/step - loss: 20.5912 - mean_absolute_percentage_error: 20.5912 - val_loss: 19.9741 - val_mean_absolute_percentage_error: 19.9694\n",
      "Epoch 37/50\n",
      "\u001b[1m4092/4092\u001b[0m \u001b[32m━━━━━━━━━━━━━━━━━━━━\u001b[0m\u001b[37m\u001b[0m \u001b[1m3s\u001b[0m 698us/step - loss: 20.6309 - mean_absolute_percentage_error: 20.6309 - val_loss: 20.0067 - val_mean_absolute_percentage_error: 20.0035\n",
      "Epoch 38/50\n",
      "\u001b[1m4092/4092\u001b[0m \u001b[32m━━━━━━━━━━━━━━━━━━━━\u001b[0m\u001b[37m\u001b[0m \u001b[1m3s\u001b[0m 714us/step - loss: 20.7074 - mean_absolute_percentage_error: 20.7074 - val_loss: 20.1872 - val_mean_absolute_percentage_error: 20.1820\n",
      "Epoch 39/50\n"
     ]
    },
    {
     "name": "stdout",
     "output_type": "stream",
     "text": [
      "\u001b[1m4092/4092\u001b[0m \u001b[32m━━━━━━━━━━━━━━━━━━━━\u001b[0m\u001b[37m\u001b[0m \u001b[1m3s\u001b[0m 697us/step - loss: 20.5164 - mean_absolute_percentage_error: 20.5164 - val_loss: 20.2931 - val_mean_absolute_percentage_error: 20.2882\n",
      "Epoch 40/50\n",
      "\u001b[1m4092/4092\u001b[0m \u001b[32m━━━━━━━━━━━━━━━━━━━━\u001b[0m\u001b[37m\u001b[0m \u001b[1m3s\u001b[0m 695us/step - loss: 20.4634 - mean_absolute_percentage_error: 20.4634 - val_loss: 20.0093 - val_mean_absolute_percentage_error: 20.0043\n",
      "Epoch 41/50\n",
      "\u001b[1m4092/4092\u001b[0m \u001b[32m━━━━━━━━━━━━━━━━━━━━\u001b[0m\u001b[37m\u001b[0m \u001b[1m3s\u001b[0m 703us/step - loss: 20.4623 - mean_absolute_percentage_error: 20.4623 - val_loss: 20.3156 - val_mean_absolute_percentage_error: 20.3111\n",
      "Epoch 42/50\n",
      "\u001b[1m4092/4092\u001b[0m \u001b[32m━━━━━━━━━━━━━━━━━━━━\u001b[0m\u001b[37m\u001b[0m \u001b[1m3s\u001b[0m 706us/step - loss: 20.4351 - mean_absolute_percentage_error: 20.4351 - val_loss: 20.1001 - val_mean_absolute_percentage_error: 20.0971\n",
      "Epoch 43/50\n",
      "\u001b[1m4092/4092\u001b[0m \u001b[32m━━━━━━━━━━━━━━━━━━━━\u001b[0m\u001b[37m\u001b[0m \u001b[1m3s\u001b[0m 694us/step - loss: 20.5405 - mean_absolute_percentage_error: 20.5405 - val_loss: 19.9946 - val_mean_absolute_percentage_error: 19.9906\n",
      "Epoch 44/50\n",
      "\u001b[1m4092/4092\u001b[0m \u001b[32m━━━━━━━━━━━━━━━━━━━━\u001b[0m\u001b[37m\u001b[0m \u001b[1m3s\u001b[0m 709us/step - loss: 20.4667 - mean_absolute_percentage_error: 20.4667 - val_loss: 19.9824 - val_mean_absolute_percentage_error: 19.9782\n",
      "Epoch 45/50\n",
      "\u001b[1m4092/4092\u001b[0m \u001b[32m━━━━━━━━━━━━━━━━━━━━\u001b[0m\u001b[37m\u001b[0m \u001b[1m3s\u001b[0m 707us/step - loss: 20.5632 - mean_absolute_percentage_error: 20.5632 - val_loss: 20.0018 - val_mean_absolute_percentage_error: 19.9989\n",
      "Epoch 46/50\n",
      "\u001b[1m4092/4092\u001b[0m \u001b[32m━━━━━━━━━━━━━━━━━━━━\u001b[0m\u001b[37m\u001b[0m \u001b[1m3s\u001b[0m 703us/step - loss: 20.6520 - mean_absolute_percentage_error: 20.6520 - val_loss: 20.0713 - val_mean_absolute_percentage_error: 20.0665\n",
      "Epoch 47/50\n",
      "\u001b[1m4092/4092\u001b[0m \u001b[32m━━━━━━━━━━━━━━━━━━━━\u001b[0m\u001b[37m\u001b[0m \u001b[1m3s\u001b[0m 722us/step - loss: 20.5888 - mean_absolute_percentage_error: 20.5888 - val_loss: 20.3017 - val_mean_absolute_percentage_error: 20.2954\n",
      "Epoch 48/50\n",
      "\u001b[1m4092/4092\u001b[0m \u001b[32m━━━━━━━━━━━━━━━━━━━━\u001b[0m\u001b[37m\u001b[0m \u001b[1m3s\u001b[0m 735us/step - loss: 20.5354 - mean_absolute_percentage_error: 20.5354 - val_loss: 20.1522 - val_mean_absolute_percentage_error: 20.1467\n",
      "Epoch 49/50\n",
      "\u001b[1m4092/4092\u001b[0m \u001b[32m━━━━━━━━━━━━━━━━━━━━\u001b[0m\u001b[37m\u001b[0m \u001b[1m3s\u001b[0m 713us/step - loss: 20.5900 - mean_absolute_percentage_error: 20.5900 - val_loss: 20.6093 - val_mean_absolute_percentage_error: 20.6034\n",
      "Epoch 50/50\n",
      "\u001b[1m4092/4092\u001b[0m \u001b[32m━━━━━━━━━━━━━━━━━━━━\u001b[0m\u001b[37m\u001b[0m \u001b[1m3s\u001b[0m 714us/step - loss: 20.4463 - mean_absolute_percentage_error: 20.4463 - val_loss: 20.2182 - val_mean_absolute_percentage_error: 20.2125\n"
     ]
    }
   ],
   "source": [
    "model = keras.Sequential([\n",
    "    keras.layers.Input((2,)),\n",
    "    keras.layers.Dense(64, activation='relu'),\n",
    "    keras.layers.Dropout(0.1),\n",
    "    keras.layers.Dense(64, activation='relu'),\n",
    "    keras.layers.Dropout(0.1),\n",
    "    keras.layers.Dense(64, activation='relu'),\n",
    "    keras.layers.Dropout(0.1),\n",
    "    keras.layers.Dense(64, activation='relu'),\n",
    "    \n",
    "    keras.layers.Dense(1, activation='relu')\n",
    "])\n",
    "\n",
    "# Compile \n",
    "model.compile(optimizer='adam', loss='mean_absolute_percentage_error', metrics=[keras.metrics.MeanAbsolutePercentageError()])\n",
    "\n",
    "# Train\n",
    "h = model.fit(gaze_train, ang_train, epochs=50, validation_split=0.1)\n"
   ]
  },
  {
   "cell_type": "markdown",
   "id": "cf9aa462",
   "metadata": {},
   "source": [
    "The model starts at a surprisingly low error rate, leaving not much room for growth without overfitting. However, we trained the model to ~80% accuracy."
   ]
  },
  {
   "cell_type": "code",
   "execution_count": 16,
   "id": "9a9c5e10",
   "metadata": {
    "scrolled": false
   },
   "outputs": [
    {
     "data": {
      "image/png": "[encoded data removed]",
      "text/plain": [
       "<Figure size 1000x600 with 1 Axes>"
      ]
     },
     "metadata": {},
     "output_type": "display_data"
    }
   ],
   "source": [
    "fig, ax = plt.subplots(1, 1, figsize=(10, 6))\n",
    "ax.plot(range(50), h.history['val_loss'], 'o-', color='maroon', label='Validation')\n",
    "ax.plot(range(50), h.history['loss'], 'o-', color='black', label='Training')\n",
    "ax.set_xlabel('Epoch')\n",
    "#ax.set_ylabel('Huber loss')\n",
    "ax.legend()\n",
    "ax.set_title('Loss Trajectory')\n",
    "sns.despine(ax=ax)"
   ]
  },
  {
   "cell_type": "code",
   "execution_count": 19,
   "id": "0947062d",
   "metadata": {},
   "outputs": [
    {
     "name": "stdout",
     "output_type": "stream",
     "text": [
      "\u001b[1m2240/2240\u001b[0m \u001b[32m━━━━━━━━━━━━━━━━━━━━\u001b[0m\u001b[37m\u001b[0m \u001b[1m1s\u001b[0m 379us/step - loss: 20.2665 - mean_absolute_percentage_error: 20.2665\n"
     ]
    }
   ],
   "source": [
    "test_loss, test_accuracy = model.evaluate(gaze_test, ang_test)"
   ]
  },
  {
   "cell_type": "code",
   "execution_count": 20,
   "id": "85da815d",
   "metadata": {},
   "outputs": [
    {
     "data": {
      "text/plain": [
       "(20.28689193725586, 20.290790557861328)"
      ]
     },
     "execution_count": 20,
     "metadata": {},
     "output_type": "execute_result"
    }
   ],
   "source": [
    "test_loss, test_accuracy"
   ]
  },
  {
   "cell_type": "markdown",
   "id": "a8f69174",
   "metadata": {},
   "source": [
    "In the interest of using this data to inform our likelihood, sample predictions were used to generate a distribution of possible \"headings\" (relative angular positions)."
   ]
  },
  {
   "cell_type": "code",
   "execution_count": 28,
   "id": "b25776bf",
   "metadata": {},
   "outputs": [
    {
     "name": "stdout",
     "output_type": "stream",
     "text": [
      "\u001b[1m2240/2240\u001b[0m \u001b[32m━━━━━━━━━━━━━━━━━━━━\u001b[0m\u001b[37m\u001b[0m \u001b[1m1s\u001b[0m 495us/step\n"
     ]
    }
   ],
   "source": [
    "pred = model.predict(gaze_test)\n",
    "pred = (pred * 360) - 360"
   ]
  },
  {
   "cell_type": "code",
   "execution_count": 32,
   "id": "72a213d6",
   "metadata": {},
   "outputs": [
    {
     "data": {
      "text/plain": [
       "array([[  22.319061],\n",
       "       [ -99.868805],\n",
       "       [ -95.65497 ],\n",
       "       ...,\n",
       "       [-121.20567 ],\n",
       "       [   8.763611],\n",
       "       [  30.692932]], dtype=float32)"
      ]
     },
     "execution_count": 32,
     "metadata": {},
     "output_type": "execute_result"
    }
   ],
   "source": [
    "pred"
   ]
  },
  {
   "cell_type": "code",
   "execution_count": 31,
   "id": "16873e5c",
   "metadata": {},
   "outputs": [
    {
     "data": {
      "text/plain": [
       "array([[  22.319061],\n",
       "       [ -99.868805],\n",
       "       [ -95.65497 ],\n",
       "       ...,\n",
       "       [-121.20567 ],\n",
       "       [   8.763611],\n",
       "       [  30.692932]], dtype=float32)"
      ]
     },
     "execution_count": 31,
     "metadata": {},
     "output_type": "execute_result"
    }
   ],
   "source": []
  },
  {
   "cell_type": "markdown",
   "id": "508008cf",
   "metadata": {},
   "source": [
    "We also attempted to train the model to predict heading based on gaze, but this was not effective."
   ]
  },
  {
   "cell_type": "code",
   "execution_count": 134,
   "id": "bd0ce6f7",
   "metadata": {
    "scrolled": true
   },
   "outputs": [
    {
     "name": "stdout",
     "output_type": "stream",
     "text": [
      "Epoch 1/20\n",
      "\u001b[1m4092/4092\u001b[0m \u001b[32m━━━━━━━━━━━━━━━━━━━━\u001b[0m\u001b[37m\u001b[0m \u001b[1m7s\u001b[0m 1ms/step - loss: 159.3608 - mean_absolute_percentage_error: 159.3608 - val_loss: 115.9348 - val_mean_absolute_percentage_error: 115.9449\n",
      "Epoch 2/20\n",
      "\u001b[1m4092/4092\u001b[0m \u001b[32m━━━━━━━━━━━━━━━━━━━━\u001b[0m\u001b[37m\u001b[0m \u001b[1m5s\u001b[0m 1ms/step - loss: 122.6788 - mean_absolute_percentage_error: 122.6788 - val_loss: 154.9944 - val_mean_absolute_percentage_error: 155.0453\n",
      "Epoch 3/20\n",
      "\u001b[1m4092/4092\u001b[0m \u001b[32m━━━━━━━━━━━━━━━━━━━━\u001b[0m\u001b[37m\u001b[0m \u001b[1m5s\u001b[0m 1ms/step - loss: 132.1546 - mean_absolute_percentage_error: 132.1546 - val_loss: 106.0368 - val_mean_absolute_percentage_error: 106.0792\n",
      "Epoch 4/20\n",
      "\u001b[1m4092/4092\u001b[0m \u001b[32m━━━━━━━━━━━━━━━━━━━━\u001b[0m\u001b[37m\u001b[0m \u001b[1m5s\u001b[0m 1ms/step - loss: 113.8732 - mean_absolute_percentage_error: 113.8732 - val_loss: 76.9916 - val_mean_absolute_percentage_error: 77.0170\n",
      "Epoch 5/20\n",
      "\u001b[1m4092/4092\u001b[0m \u001b[32m━━━━━━━━━━━━━━━━━━━━\u001b[0m\u001b[37m\u001b[0m \u001b[1m5s\u001b[0m 1ms/step - loss: 115.9394 - mean_absolute_percentage_error: 115.9394 - val_loss: 63.5529 - val_mean_absolute_percentage_error: 63.5866\n",
      "Epoch 6/20\n",
      "\u001b[1m4092/4092\u001b[0m \u001b[32m━━━━━━━━━━━━━━━━━━━━\u001b[0m\u001b[37m\u001b[0m \u001b[1m4s\u001b[0m 1ms/step - loss: 113.2560 - mean_absolute_percentage_error: 113.2561 - val_loss: 63.5526 - val_mean_absolute_percentage_error: 63.5852\n",
      "Epoch 7/20\n",
      "\u001b[1m4092/4092\u001b[0m \u001b[32m━━━━━━━━━━━━━━━━━━━━\u001b[0m\u001b[37m\u001b[0m \u001b[1m5s\u001b[0m 1ms/step - loss: 99.8798 - mean_absolute_percentage_error: 99.8799 - val_loss: 64.0267 - val_mean_absolute_percentage_error: 64.0587\n",
      "Epoch 8/20\n",
      "\u001b[1m4092/4092\u001b[0m \u001b[32m━━━━━━━━━━━━━━━━━━━━\u001b[0m\u001b[37m\u001b[0m \u001b[1m5s\u001b[0m 1ms/step - loss: 124.7042 - mean_absolute_percentage_error: 124.7042 - val_loss: 63.8740 - val_mean_absolute_percentage_error: 63.9062\n",
      "Epoch 9/20\n",
      "\u001b[1m4092/4092\u001b[0m \u001b[32m━━━━━━━━━━━━━━━━━━━━\u001b[0m\u001b[37m\u001b[0m \u001b[1m5s\u001b[0m 1ms/step - loss: 112.8422 - mean_absolute_percentage_error: 112.8422 - val_loss: 63.3862 - val_mean_absolute_percentage_error: 63.4193\n",
      "Epoch 10/20\n",
      "\u001b[1m4092/4092\u001b[0m \u001b[32m━━━━━━━━━━━━━━━━━━━━\u001b[0m\u001b[37m\u001b[0m \u001b[1m5s\u001b[0m 1ms/step - loss: 97.3747 - mean_absolute_percentage_error: 97.3747 - val_loss: 63.7955 - val_mean_absolute_percentage_error: 63.8278\n",
      "Epoch 11/20\n",
      "\u001b[1m4092/4092\u001b[0m \u001b[32m━━━━━━━━━━━━━━━━━━━━\u001b[0m\u001b[37m\u001b[0m \u001b[1m5s\u001b[0m 1ms/step - loss: 88.9713 - mean_absolute_percentage_error: 88.9713 - val_loss: 63.9266 - val_mean_absolute_percentage_error: 63.9587\n",
      "Epoch 12/20\n",
      "\u001b[1m4092/4092\u001b[0m \u001b[32m━━━━━━━━━━━━━━━━━━━━\u001b[0m\u001b[37m\u001b[0m \u001b[1m5s\u001b[0m 1ms/step - loss: 86.1765 - mean_absolute_percentage_error: 86.1765 - val_loss: 63.4492 - val_mean_absolute_percentage_error: 63.4820\n",
      "Epoch 13/20\n",
      "\u001b[1m4092/4092\u001b[0m \u001b[32m━━━━━━━━━━━━━━━━━━━━\u001b[0m\u001b[37m\u001b[0m \u001b[1m4s\u001b[0m 1ms/step - loss: 110.1361 - mean_absolute_percentage_error: 110.1362 - val_loss: 63.5101 - val_mean_absolute_percentage_error: 63.5427\n",
      "Epoch 14/20\n",
      "\u001b[1m4092/4092\u001b[0m \u001b[32m━━━━━━━━━━━━━━━━━━━━\u001b[0m\u001b[37m\u001b[0m \u001b[1m5s\u001b[0m 1ms/step - loss: 107.8486 - mean_absolute_percentage_error: 107.8486 - val_loss: 63.7073 - val_mean_absolute_percentage_error: 63.7397\n",
      "Epoch 15/20\n",
      "\u001b[1m4092/4092\u001b[0m \u001b[32m━━━━━━━━━━━━━━━━━━━━\u001b[0m\u001b[37m\u001b[0m \u001b[1m5s\u001b[0m 1ms/step - loss: 114.3392 - mean_absolute_percentage_error: 114.3392 - val_loss: 63.6680 - val_mean_absolute_percentage_error: 63.7005\n",
      "Epoch 16/20\n",
      "\u001b[1m4092/4092\u001b[0m \u001b[32m━━━━━━━━━━━━━━━━━━━━\u001b[0m\u001b[37m\u001b[0m \u001b[1m4s\u001b[0m 1ms/step - loss: 93.8313 - mean_absolute_percentage_error: 93.8313 - val_loss: 63.6123 - val_mean_absolute_percentage_error: 63.6448\n",
      "Epoch 17/20\n",
      "\u001b[1m4092/4092\u001b[0m \u001b[32m━━━━━━━━━━━━━━━━━━━━\u001b[0m\u001b[37m\u001b[0m \u001b[1m4s\u001b[0m 1ms/step - loss: 157.7784 - mean_absolute_percentage_error: 157.7784 - val_loss: 63.5776 - val_mean_absolute_percentage_error: 63.6101\n",
      "Epoch 18/20\n",
      "\u001b[1m4092/4092\u001b[0m \u001b[32m━━━━━━━━━━━━━━━━━━━━\u001b[0m\u001b[37m\u001b[0m \u001b[1m4s\u001b[0m 1ms/step - loss: 120.9064 - mean_absolute_percentage_error: 120.9064 - val_loss: 63.5301 - val_mean_absolute_percentage_error: 63.5627\n",
      "Epoch 19/20\n",
      "\u001b[1m4092/4092\u001b[0m \u001b[32m━━━━━━━━━━━━━━━━━━━━\u001b[0m\u001b[37m\u001b[0m \u001b[1m4s\u001b[0m 1ms/step - loss: 93.7316 - mean_absolute_percentage_error: 93.7316 - val_loss: 63.5115 - val_mean_absolute_percentage_error: 63.5442\n",
      "Epoch 20/20\n",
      "\u001b[1m4092/4092\u001b[0m \u001b[32m━━━━━━━━━━━━━━━━━━━━\u001b[0m\u001b[37m\u001b[0m \u001b[1m4s\u001b[0m 1ms/step - loss: 113.6014 - mean_absolute_percentage_error: 113.6014 - val_loss: 63.4451 - val_mean_absolute_percentage_error: 63.4778\n"
     ]
    }
   ],
   "source": [
    "# Basic feedforward structure\n",
    "model2 = keras.Sequential([\n",
    "    keras.layers.Input((1,)),\n",
    "    keras.layers.Dense(128, activation='sigmoid'),\n",
    "    keras.layers.Dense(128, activation='sigmoid'),\n",
    "    keras.layers.Dense(128, activation='sigmoid'),\n",
    "    keras.layers.Dense(128, activation='sigmoid'),\n",
    "    keras.layers.Dense(128, activation='sigmoid'),\n",
    "    \n",
    "    keras.layers.Dense(2, activation='softmax')\n",
    "])\n",
    "\n",
    "# Compile \n",
    "model2.compile(optimizer='adam', loss='huber', metrics=[keras.metrics.MeanAbsolutePercentageError()])\n",
    "\n",
    "# Train\n",
    "j = model2.fit(ang_train, gaze_train, epochs=20, validation_split=0.1)\n"
   ]
  },
  {
   "cell_type": "code",
   "execution_count": 10,
   "id": "31840851",
   "metadata": {
    "scrolled": true
   },
   "outputs": [
    {
     "ename": "NameError",
     "evalue": "name 'j' is not defined",
     "output_type": "error",
     "traceback": [
      "\u001b[0;31m---------------------------------------------------------------------------\u001b[0m",
      "\u001b[0;31mNameError\u001b[0m                                 Traceback (most recent call last)",
      "Cell \u001b[0;32mIn[10], line 2\u001b[0m\n\u001b[1;32m      1\u001b[0m fig, ax \u001b[38;5;241m=\u001b[39m plt\u001b[38;5;241m.\u001b[39msubplots(\u001b[38;5;241m1\u001b[39m, \u001b[38;5;241m1\u001b[39m, figsize\u001b[38;5;241m=\u001b[39m(\u001b[38;5;241m10\u001b[39m, \u001b[38;5;241m6\u001b[39m))\n\u001b[0;32m----> 2\u001b[0m ax\u001b[38;5;241m.\u001b[39mplot(\u001b[38;5;28mrange\u001b[39m(\u001b[38;5;241m50\u001b[39m), j\u001b[38;5;241m.\u001b[39mhistory[\u001b[38;5;124m'\u001b[39m\u001b[38;5;124mval_loss\u001b[39m\u001b[38;5;124m'\u001b[39m], \u001b[38;5;124m'\u001b[39m\u001b[38;5;124mo-\u001b[39m\u001b[38;5;124m'\u001b[39m, color\u001b[38;5;241m=\u001b[39m\u001b[38;5;124m'\u001b[39m\u001b[38;5;124mmaroon\u001b[39m\u001b[38;5;124m'\u001b[39m, label\u001b[38;5;241m=\u001b[39m\u001b[38;5;124m'\u001b[39m\u001b[38;5;124mValidation\u001b[39m\u001b[38;5;124m'\u001b[39m)\n\u001b[1;32m      3\u001b[0m ax\u001b[38;5;241m.\u001b[39mplot(\u001b[38;5;28mrange\u001b[39m(\u001b[38;5;241m50\u001b[39m), j\u001b[38;5;241m.\u001b[39mhistory[\u001b[38;5;124m'\u001b[39m\u001b[38;5;124mloss\u001b[39m\u001b[38;5;124m'\u001b[39m], \u001b[38;5;124m'\u001b[39m\u001b[38;5;124mo-\u001b[39m\u001b[38;5;124m'\u001b[39m, color\u001b[38;5;241m=\u001b[39m\u001b[38;5;124m'\u001b[39m\u001b[38;5;124mblack\u001b[39m\u001b[38;5;124m'\u001b[39m, label\u001b[38;5;241m=\u001b[39m\u001b[38;5;124m'\u001b[39m\u001b[38;5;124mTraining\u001b[39m\u001b[38;5;124m'\u001b[39m)\n\u001b[1;32m      4\u001b[0m ax\u001b[38;5;241m.\u001b[39mset_xlabel(\u001b[38;5;124m'\u001b[39m\u001b[38;5;124mEpoch\u001b[39m\u001b[38;5;124m'\u001b[39m)\n",
      "\u001b[0;31mNameError\u001b[0m: name 'j' is not defined"
     ]
    },
    {
     "data": {
      "image/png": "[encoded data removed]",
      "text/plain": [
       "<Figure size 1000x600 with 1 Axes>"
      ]
     },
     "metadata": {},
     "output_type": "display_data"
    }
   ],
   "source": [
    "fig, ax = plt.subplots(1, 1, figsize=(10, 6))\n",
    "ax.plot(range(50), j.history['val_loss'], 'o-', color='maroon', label='Validation')\n",
    "ax.plot(range(50), j.history['loss'], 'o-', color='black', label='Training')\n",
    "ax.set_xlabel('Epoch')\n",
    "ax.set_ylabel('Percentage error')\n",
    "ax.legend()\n",
    "ax.set_title('Loss Trajectory')\n",
    "sns.despine(ax=ax)"
   ]
  },
  {
   "cell_type": "code",
   "execution_count": 136,
   "id": "73901d56",
   "metadata": {
    "scrolled": true
   },
   "outputs": [
    {
     "name": "stdout",
     "output_type": "stream",
     "text": [
      "\u001b[1m2240/2240\u001b[0m \u001b[32m━━━━━━━━━━━━━━━━━━━━\u001b[0m\u001b[37m\u001b[0m \u001b[1m2s\u001b[0m 688us/step - loss: 82.0181 - mean_absolute_percentage_error: 82.0181\n"
     ]
    }
   ],
   "source": [
    "test_loss, test_accuracy = model2.evaluate(ang_test, gaze_test)"
   ]
  },
  {
   "cell_type": "code",
   "execution_count": 137,
   "id": "ef4e1e05",
   "metadata": {},
   "outputs": [
    {
     "data": {
      "text/plain": [
       "(75.42182922363281, 75.44270324707031)"
      ]
     },
     "execution_count": 137,
     "metadata": {},
     "output_type": "execute_result"
    }
   ],
   "source": [
    "test_loss, test_accuracy"
   ]
  }
 ],
 "metadata": {
  "kernelspec": {
   "display_name": "Python 3 (ipykernel)",
   "language": "python",
   "name": "python3"
  },
  "language_info": {
   "codemirror_mode": {
    "name": "ipython",
    "version": 3
   },
   "file_extension": ".py",
   "mimetype": "text/x-python",
   "name": "python",
   "nbconvert_exporter": "python",
   "pygments_lexer": "ipython3",
   "version": "3.11.5"
  }
 },
 "nbformat": 4,
 "nbformat_minor": 5
}
