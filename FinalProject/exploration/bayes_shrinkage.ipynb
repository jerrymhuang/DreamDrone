{
 "cells": [
  {
   "cell_type": "code",
   "execution_count": 20,
   "id": "9d9c2b3b",
   "metadata": {},
   "outputs": [],
   "source": [
    "from bbai.glm import BayesianRidgeRegression\n",
    "from sklearn.linear_model import BayesianRidge\n",
    "import pandas as pd"
   ]
  },
  {
   "cell_type": "code",
   "execution_count": 4,
   "id": "a7ddbd20",
   "metadata": {},
   "outputs": [],
   "source": [
    "# Read in the data\n",
    "dataset = pd.read_csv('../data/full_data2.csv', usecols=['Lap_Number', 'Subject', 'Gaze.x.', 'Gaze.y.', 'Ang_Pos'], sep=';')\n",
    "dataset = dataset.dropna()"
   ]
  },
  {
   "cell_type": "code",
   "execution_count": 5,
   "id": "9166320f",
   "metadata": {},
   "outputs": [
    {
     "data": {
      "text/plain": [
       "(9585, 5)"
      ]
     },
     "execution_count": 5,
     "metadata": {},
     "output_type": "execute_result"
    }
   ],
   "source": [
    "train_set = dataset[dataset.Lap_Number==1]\n",
    "train_set = train_set.iloc[::10, :]\n",
    "\n",
    "train_set.shape"
   ]
  },
  {
   "cell_type": "code",
   "execution_count": 7,
   "id": "0611fe71",
   "metadata": {},
   "outputs": [],
   "source": [
    "## Normalizing the data\n",
    "train_set.loc[:,'Gaze.x.'] = train_set.loc[:,'Gaze.x.'] / 2650 - 0.5\n",
    "train_set.loc[:,'Gaze.y.'] = train_set.loc[:,'Gaze.y.'] / 1080 - 0.5"
   ]
  },
  {
   "cell_type": "code",
   "execution_count": 36,
   "id": "6f23db14",
   "metadata": {},
   "outputs": [
    {
     "data": {
      "text/html": [
       "<div>\n",
       "<style scoped>\n",
       "    .dataframe tbody tr th:only-of-type {\n",
       "        vertical-align: middle;\n",
       "    }\n",
       "\n",
       "    .dataframe tbody tr th {\n",
       "        vertical-align: top;\n",
       "    }\n",
       "\n",
       "    .dataframe thead th {\n",
       "        text-align: right;\n",
       "    }\n",
       "</style>\n",
       "<table border=\"1\" class=\"dataframe\">\n",
       "  <thead>\n",
       "    <tr style=\"text-align: right;\">\n",
       "      <th></th>\n",
       "      <th>Gaze.x.</th>\n",
       "      <th>Gaze.y.</th>\n",
       "    </tr>\n",
       "  </thead>\n",
       "  <tbody>\n",
       "    <tr>\n",
       "      <th>6974</th>\n",
       "      <td>-0.052093</td>\n",
       "      <td>-0.090649</td>\n",
       "    </tr>\n",
       "    <tr>\n",
       "      <th>6984</th>\n",
       "      <td>-0.054534</td>\n",
       "      <td>-0.090207</td>\n",
       "    </tr>\n",
       "    <tr>\n",
       "      <th>6994</th>\n",
       "      <td>-0.065204</td>\n",
       "      <td>-0.090739</td>\n",
       "    </tr>\n",
       "    <tr>\n",
       "      <th>7004</th>\n",
       "      <td>-0.075833</td>\n",
       "      <td>-0.086825</td>\n",
       "    </tr>\n",
       "    <tr>\n",
       "      <th>7014</th>\n",
       "      <td>-0.075169</td>\n",
       "      <td>-0.085564</td>\n",
       "    </tr>\n",
       "    <tr>\n",
       "      <th>...</th>\n",
       "      <td>...</td>\n",
       "      <td>...</td>\n",
       "    </tr>\n",
       "    <tr>\n",
       "      <th>194710</th>\n",
       "      <td>0.142979</td>\n",
       "      <td>-0.124156</td>\n",
       "    </tr>\n",
       "    <tr>\n",
       "      <th>194720</th>\n",
       "      <td>0.438812</td>\n",
       "      <td>-0.307299</td>\n",
       "    </tr>\n",
       "    <tr>\n",
       "      <th>194730</th>\n",
       "      <td>-0.004704</td>\n",
       "      <td>-0.086669</td>\n",
       "    </tr>\n",
       "    <tr>\n",
       "      <th>194740</th>\n",
       "      <td>-0.004704</td>\n",
       "      <td>-0.086669</td>\n",
       "    </tr>\n",
       "    <tr>\n",
       "      <th>194750</th>\n",
       "      <td>-0.004704</td>\n",
       "      <td>-0.086669</td>\n",
       "    </tr>\n",
       "  </tbody>\n",
       "</table>\n",
       "<p>9585 rows × 2 columns</p>\n",
       "</div>"
      ],
      "text/plain": [
       "         Gaze.x.   Gaze.y.\n",
       "6974   -0.052093 -0.090649\n",
       "6984   -0.054534 -0.090207\n",
       "6994   -0.065204 -0.090739\n",
       "7004   -0.075833 -0.086825\n",
       "7014   -0.075169 -0.085564\n",
       "...          ...       ...\n",
       "194710  0.142979 -0.124156\n",
       "194720  0.438812 -0.307299\n",
       "194730 -0.004704 -0.086669\n",
       "194740 -0.004704 -0.086669\n",
       "194750 -0.004704 -0.086669\n",
       "\n",
       "[9585 rows x 2 columns]"
      ]
     },
     "execution_count": 36,
     "metadata": {},
     "output_type": "execute_result"
    }
   ],
   "source": [
    "train_set.iloc[:,2:4]"
   ]
  },
  {
   "cell_type": "code",
   "execution_count": 38,
   "id": "3e7267be",
   "metadata": {},
   "outputs": [],
   "source": [
    "model_bay = BayesianRidgeRegression(fit_intercept=False)\n",
    "model_bay.fit(train_set.iloc[:,4:5], train_set.iloc[:,2:4].to_numpy())"
   ]
  },
  {
   "cell_type": "code",
   "execution_count": 42,
   "id": "fe4a5e34",
   "metadata": {},
   "outputs": [
    {
     "data": {
      "text/plain": [
       "(array([-0.00122236]), 0.031189158829572006)"
      ]
     },
     "execution_count": 42,
     "metadata": {},
     "output_type": "execute_result"
    }
   ],
   "source": [
    "model_bay.weight_mean_vector_, model_bay.noise_variance_mean_"
   ]
  },
  {
   "cell_type": "code",
   "execution_count": 16,
   "id": "27535c2d",
   "metadata": {},
   "outputs": [],
   "source": [
    "#def compute_prediction_error_variance(K, w_true, w):\n",
    "#    delta = w - w_true\n",
    "#    noise_variance = 1.0\n",
    "#    return noise_variance + np.dot(delta, np.dot(K, delta))"
   ]
  },
  {
   "cell_type": "code",
   "execution_count": 17,
   "id": "06a344e3",
   "metadata": {},
   "outputs": [
    {
     "ename": "NameError",
     "evalue": "name 'K' is not defined",
     "output_type": "error",
     "traceback": [
      "\u001b[0;31m---------------------------------------------------------------------------\u001b[0m",
      "\u001b[0;31mNameError\u001b[0m                                 Traceback (most recent call last)",
      "Cell \u001b[0;32mIn[17], line 1\u001b[0m\n\u001b[0;32m----> 1\u001b[0m err_variance_bay \u001b[38;5;241m=\u001b[39m compute_prediction_error_variance(K, w_true, model_bay\u001b[38;5;241m.\u001b[39mweight_mean_vector_)\n",
      "\u001b[0;31mNameError\u001b[0m: name 'K' is not defined"
     ]
    }
   ],
   "source": [
    "#err_variance_bay = compute_prediction_error_variance(K, w_true, model_bay.weight_mean_vector_)"
   ]
  }
 ],
 "metadata": {
  "kernelspec": {
   "display_name": "Python 3 (ipykernel)",
   "language": "python",
   "name": "python3"
  },
  "language_info": {
   "codemirror_mode": {
    "name": "ipython",
    "version": 3
   },
   "file_extension": ".py",
   "mimetype": "text/x-python",
   "name": "python",
   "nbconvert_exporter": "python",
   "pygments_lexer": "ipython3",
   "version": "3.11.5"
  }
 },
 "nbformat": 4,
 "nbformat_minor": 5
}
