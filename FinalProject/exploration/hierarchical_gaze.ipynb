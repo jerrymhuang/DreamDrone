{
 "cells": [
  {
   "cell_type": "code",
   "execution_count": 1,
   "metadata": {},
   "outputs": [],
   "source": [
    "import os\n",
    "import numpy as np\n",
    "import pandas as pd\n",
    "import matplotlib.pyplot as plt\n",
    "\n",
    "import seaborn as sns"
   ]
  },
  {
   "cell_type": "code",
   "execution_count": 5,
   "metadata": {},
   "outputs": [],
   "source": [
    "def read_data_from_subjects(index):\n",
    "    dataset = []\n",
    "    folder = '../data/subjects-xy/'\n",
    "    files = os.listdir(folder)\n",
    "\n",
    "    for f in files:\n",
    "        data = pd.read_csv(folder + f, delimiter=\";\").to_numpy()\n",
    "        positions = data[:,index]\n",
    "        dataset.append(positions)\n",
    "\n",
    "    return dataset"
   ]
  },
  {
   "cell_type": "code",
   "execution_count": 13,
   "metadata": {},
   "outputs": [],
   "source": [
    "#Full data acquired here:\n",
    "dataset = pd.read_csv('../data/full_data.csv')\n",
    "\n",
    "#Dataset:\n",
    "#Timestamp\n",
    "#Lap_Number (0,1)\n",
    "#Position.x., Position.y., Position.z.\n",
    "#Orientation.y. (0-360, yaw rotation)\n",
    "#Gaze_Location.x., .y., .z. (original 3D gaze point)\n",
    "#Subject\n",
    "#Gaze.x. (0-2560, screen-relative gaze coord)\n",
    "#Gaze.y. (0-1080, screen-relative gaze coord)\n",
    "#d_ang (change in Orientation.y.)\n",
    "#ang_accel (change in d_ang)\n",
    "#Gate_N (Upcoming gate #, can substitute for gaze point)\n",
    "#Ang_Pos (-360:360, angle between Orientation.y. and normal vector of upcoming gate)"
   ]
  },
  {
   "cell_type": "code",
   "execution_count": 11,
   "metadata": {},
   "outputs": [],
   "source": [
    "#Normalize (x,y) to 0-1\n",
    "gaze_x = dataset['Gaze.x.'] / 2560\n",
    "gaze_y = dataset['Gaze.y.'] / 1080\n",
    "\n",
    "gaze_x.max(), gaze_y.max()"
   ]
  },
  {
   "cell_type": "code",
   "execution_count": 35,
   "metadata": {},
   "outputs": [
    {
     "data": {
      "text/plain": [
       "358954.2"
      ]
     },
     "execution_count": 35,
     "metadata": {},
     "output_type": "execute_result"
    }
   ],
   "source": [
    "positions = read_data_from_subjects([2, 4])\n",
    "gaze_x = read_data_from_subjects(-2)\n",
    "gaze_y = read_data_from_subjects(-1)\n",
    "\n",
    "gaze_x[1]\n",
    "gaze_y[1]\n",
    "\n",
    "max(gaze_x[0])"
   ]
  },
  {
   "cell_type": "code",
   "execution_count": null,
   "metadata": {},
   "outputs": [],
   "source": [
    "def read_data_from_set():\n",
    "    "
   ]
  }
 ],
 "metadata": {
  "kernelspec": {
   "display_name": "Python 3 (ipykernel)",
   "language": "python",
   "name": "python3"
  },
  "language_info": {
   "codemirror_mode": {
    "name": "ipython",
    "version": 3
   },
   "file_extension": ".py",
   "mimetype": "text/x-python",
   "name": "python",
   "nbconvert_exporter": "python",
   "pygments_lexer": "ipython3",
   "version": "3.11.5"
  }
 },
 "nbformat": 4,
 "nbformat_minor": 2
}
