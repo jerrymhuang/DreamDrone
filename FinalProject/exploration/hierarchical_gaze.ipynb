{
 "cells": [
  {
   "cell_type": "code",
   "execution_count": 1,
   "metadata": {},
   "outputs": [],
   "source": [
    "import os\n",
    "import numpy as np\n",
    "import pandas as pd\n",
    "import matplotlib.pyplot as plt\n",
    "\n",
    "import seaborn as sns"
   ]
  },
  {
   "cell_type": "code",
   "execution_count": 5,
   "metadata": {},
   "outputs": [],
   "source": [
    "def read_data_from_subjects(index):\n",
    "    dataset = []\n",
    "    folder = '../data/subjects-xy/'\n",
    "    files = os.listdir(folder)\n",
    "\n",
    "    for f in files:\n",
    "        data = pd.read_csv(folder + f, delimiter=\";\").to_numpy()\n",
    "        positions = data[:,index]\n",
    "        dataset.append(positions)\n",
    "\n",
    "    return dataset"
   ]
  },
  {
   "cell_type": "code",
   "execution_count": 35,
   "metadata": {},
   "outputs": [
    {
     "data": {
      "text/plain": [
       "358954.2"
      ]
     },
     "execution_count": 35,
     "metadata": {},
     "output_type": "execute_result"
    }
   ],
   "source": [
    "positions = read_data_from_subjects([2, 4])\n",
    "gaze_x = read_data_from_subjects(-2)\n",
    "gaze_y = read_data_from_subjects(-1)\n",
    "\n",
    "gaze_x[1]\n",
    "gaze_y[1]\n",
    "\n",
    "max(gaze_x[0])"
   ]
  },
  {
   "cell_type": "code",
   "execution_count": null,
   "metadata": {},
   "outputs": [],
   "source": [
    "def read_data_from_set():\n",
    "    "
   ]
  }
 ],
 "metadata": {
  "kernelspec": {
   "display_name": "Python 3",
   "language": "python",
   "name": "python3"
  },
  "language_info": {
   "codemirror_mode": {
    "name": "ipython",
    "version": 3
   },
   "file_extension": ".py",
   "mimetype": "text/x-python",
   "name": "python",
   "nbconvert_exporter": "python",
   "pygments_lexer": "ipython3",
   "version": "3.10.12"
  }
 },
 "nbformat": 4,
 "nbformat_minor": 2
}
