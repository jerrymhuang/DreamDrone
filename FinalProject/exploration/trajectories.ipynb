{
 "cells": [
  {
   "cell_type": "code",
   "execution_count": 1,
   "metadata": {},
   "outputs": [],
   "source": [
    "import numpy as np\n",
    "import pandas as pd\n",
    "import matplotlib.pyplot as plt\n",
    "\n",
    "import seaborn as sns"
   ]
  },
  {
   "cell_type": "code",
   "execution_count": 32,
   "metadata": {},
   "outputs": [],
   "source": [
    "waypoints = pd.read_csv('../data/trajectories/waypoints.csv', delimiter=\";\").to_numpy()\n",
    "path = pd.read_csv('../data/trajectories/optimal_path.csv', delimiter=\";\").to_numpy()\n",
    "headings = pd.read_csv('../data/trajectories/optimal_heading.csv', delimiter=\";\").to_numpy()"
   ]
  },
  {
   "cell_type": "code",
   "execution_count": 34,
   "metadata": {},
   "outputs": [
    {
     "data": {
      "text/plain": [
       "array([[-2.61245200e+02, -1.35059600e+02, -3.93957482e-01],\n",
       "       [-2.89703155e+02, -2.39332630e+01, -1.11487485e-01],\n",
       "       [-3.49733639e+02,  7.32813039e+01, -5.93022629e-01],\n",
       "       [-4.13602499e+02,  1.66594920e+02, -9.16672210e-01],\n",
       "       [-5.06220236e+02,  2.34154537e+02, -4.22435036e-01]])"
      ]
     },
     "execution_count": 34,
     "metadata": {},
     "output_type": "execute_result"
    }
   ],
   "source": [
    "waypoints.shape\n",
    "waypoints[0:5]"
   ]
  },
  {
   "cell_type": "code",
   "execution_count": 35,
   "metadata": {},
   "outputs": [
    {
     "data": {
      "text/plain": [
       "array([[-261.2452  , -135.0596  ],\n",
       "       [-261.340249, -134.171685],\n",
       "       [-261.436807, -133.283932],\n",
       "       [-261.534882, -132.396345],\n",
       "       [-261.634485, -131.508928]])"
      ]
     },
     "execution_count": 35,
     "metadata": {},
     "output_type": "execute_result"
    }
   ],
   "source": [
    "path[0:5]"
   ]
  },
  {
   "cell_type": "code",
   "execution_count": 36,
   "metadata": {},
   "outputs": [
    {
     "data": {
      "text/plain": [
       "array([[-0.105598,  0.994409],\n",
       "       [-0.107282,  0.994229],\n",
       "       [-0.108977,  0.994044],\n",
       "       [-0.110682,  0.993856],\n",
       "       [-0.112397,  0.993663]])"
      ]
     },
     "execution_count": 36,
     "metadata": {},
     "output_type": "execute_result"
    }
   ],
   "source": [
    "headings[0:5]"
   ]
  },
  {
   "cell_type": "code",
   "execution_count": 52,
   "metadata": {},
   "outputs": [],
   "source": [
    "def relative_headings(path, headings, waypoints, skip=1):\n",
    "\n",
    "    num_headings = path.shape[0]\n",
    "    num_waypoints = waypoints.shape[0]\n",
    "\n",
    "    headings_per_waypoint = int(num_headings / num_waypoints)\n",
    "\n",
    "    # Shift the entire array of waypoints to the one that influences gaze.\n",
    "    # Default is to skip 1 (the next waypoint after the immediate one).\n",
    "    waypoints = np.roll(waypoints, shift=-skip)\n",
    "\n",
    "    relative_headings = np.zeros(num_headings, dtype=np.float32)\n",
    "\n",
    "    for i in range(num_headings):\n",
    "        waypoint_id = np.floor(i / headings_per_waypoint)\n",
    "        absolute_heading = waypoints[int(waypoint_id)] - path[i]\n",
    "        relative_headings[i] = np.dot(headings[i], absolute_heading) / (np.linalg.norm(headings[i]) * np.linalg.norm(absolute_heading))\n",
    "\n",
    "    return relative_headings"
   ]
  },
  {
   "cell_type": "code",
   "execution_count": 54,
   "metadata": {},
   "outputs": [
    {
     "data": {
      "text/plain": [
       "array([-0.8372224 , -0.8394727 , -0.8417016 , -0.84390885, -0.84609455],\n",
       "      dtype=float32)"
      ]
     },
     "execution_count": 54,
     "metadata": {},
     "output_type": "execute_result"
    }
   ],
   "source": [
    "rel_headings = relative_headings(path=path, headings=headings, waypoints=waypoints[:,0:2])\n",
    "rel_headings[0:5]"
   ]
  },
  {
   "cell_type": "code",
   "execution_count": 58,
   "metadata": {},
   "outputs": [
    {
     "data": {
      "text/plain": [
       "<Axes: ylabel='Count'>"
      ]
     },
     "execution_count": 58,
     "metadata": {},
     "output_type": "execute_result"
    },
    {
     "data": {
      "image/png": "[encoded data removed]",
      "text/plain": [
       "<Figure size 640x480 with 1 Axes>"
      ]
     },
     "metadata": {},
     "output_type": "display_data"
    }
   ],
   "source": [
    "sns.histplot(rel_headings, bins=20)"
   ]
  },
  {
   "cell_type": "code",
   "execution_count": null,
   "metadata": {},
   "outputs": [],
   "source": []
  }
 ],
 "metadata": {
  "kernelspec": {
   "display_name": "Python 3",
   "language": "python",
   "name": "python3"
  },
  "language_info": {
   "codemirror_mode": {
    "name": "ipython",
    "version": 3
   },
   "file_extension": ".py",
   "mimetype": "text/x-python",
   "name": "python",
   "nbconvert_exporter": "python",
   "pygments_lexer": "ipython3",
   "version": "3.10.12"
  }
 },
 "nbformat": 4,
 "nbformat_minor": 2
}
