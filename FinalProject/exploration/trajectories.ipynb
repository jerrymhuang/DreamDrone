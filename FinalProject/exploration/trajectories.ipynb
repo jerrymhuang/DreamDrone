{
 "cells": [
  {
   "cell_type": "code",
   "execution_count": 1,
   "metadata": {},
   "outputs": [],
   "source": [
    "import numpy as np\n",
    "import pandas as pd\n",
    "import matplotlib.pyplot as plt\n",
    "\n",
    "import seaborn as sns"
   ]
  },
  {
   "cell_type": "code",
   "execution_count": 21,
   "metadata": {},
   "outputs": [],
   "source": [
    "waypoints = pd.read_csv('../data/trajectories/waypoints.csv', delimiter=\";\")\n",
    "path = pd.read_csv('../data/trajectories/optimal_path.csv', delimiter=\";\")\n",
    "headings = pd.read_csv('../data/trajectories/optimal_heading.csv', delimiter=\";\")    "
   ]
  },
  {
   "cell_type": "code",
   "execution_count": 12,
   "metadata": {},
   "outputs": [
    {
     "data": {
      "text/html": [
       "<div>\n",
       "<style scoped>\n",
       "    .dataframe tbody tr th:only-of-type {\n",
       "        vertical-align: middle;\n",
       "    }\n",
       "\n",
       "    .dataframe tbody tr th {\n",
       "        vertical-align: top;\n",
       "    }\n",
       "\n",
       "    .dataframe thead th {\n",
       "        text-align: right;\n",
       "    }\n",
       "</style>\n",
       "<table border=\"1\" class=\"dataframe\">\n",
       "  <thead>\n",
       "    <tr style=\"text-align: right;\">\n",
       "      <th></th>\n",
       "      <th>X</th>\n",
       "      <th>Z</th>\n",
       "      <th>Angle</th>\n",
       "    </tr>\n",
       "  </thead>\n",
       "  <tbody>\n",
       "    <tr>\n",
       "      <th>0</th>\n",
       "      <td>-261.245200</td>\n",
       "      <td>-135.059600</td>\n",
       "      <td>-0.393957</td>\n",
       "    </tr>\n",
       "    <tr>\n",
       "      <th>1</th>\n",
       "      <td>-289.703155</td>\n",
       "      <td>-23.933263</td>\n",
       "      <td>-0.111487</td>\n",
       "    </tr>\n",
       "    <tr>\n",
       "      <th>2</th>\n",
       "      <td>-349.733639</td>\n",
       "      <td>73.281304</td>\n",
       "      <td>-0.593023</td>\n",
       "    </tr>\n",
       "    <tr>\n",
       "      <th>3</th>\n",
       "      <td>-413.602499</td>\n",
       "      <td>166.594920</td>\n",
       "      <td>-0.916672</td>\n",
       "    </tr>\n",
       "  </tbody>\n",
       "</table>\n",
       "</div>"
      ],
      "text/plain": [
       "            X           Z     Angle\n",
       "0 -261.245200 -135.059600 -0.393957\n",
       "1 -289.703155  -23.933263 -0.111487\n",
       "2 -349.733639   73.281304 -0.593023\n",
       "3 -413.602499  166.594920 -0.916672"
      ]
     },
     "execution_count": 12,
     "metadata": {},
     "output_type": "execute_result"
    }
   ],
   "source": [
    "waypoints.shape\n",
    "waypoints[0:4]"
   ]
  },
  {
   "cell_type": "code",
   "execution_count": 13,
   "metadata": {},
   "outputs": [
    {
     "data": {
      "text/html": [
       "<div>\n",
       "<style scoped>\n",
       "    .dataframe tbody tr th:only-of-type {\n",
       "        vertical-align: middle;\n",
       "    }\n",
       "\n",
       "    .dataframe tbody tr th {\n",
       "        vertical-align: top;\n",
       "    }\n",
       "\n",
       "    .dataframe thead th {\n",
       "        text-align: right;\n",
       "    }\n",
       "</style>\n",
       "<table border=\"1\" class=\"dataframe\">\n",
       "  <thead>\n",
       "    <tr style=\"text-align: right;\">\n",
       "      <th></th>\n",
       "      <th>path_x</th>\n",
       "      <th>path_z</th>\n",
       "    </tr>\n",
       "  </thead>\n",
       "  <tbody>\n",
       "    <tr>\n",
       "      <th>0</th>\n",
       "      <td>-261.245200</td>\n",
       "      <td>-135.059600</td>\n",
       "    </tr>\n",
       "    <tr>\n",
       "      <th>1</th>\n",
       "      <td>-261.340249</td>\n",
       "      <td>-134.171685</td>\n",
       "    </tr>\n",
       "    <tr>\n",
       "      <th>2</th>\n",
       "      <td>-261.436807</td>\n",
       "      <td>-133.283932</td>\n",
       "    </tr>\n",
       "    <tr>\n",
       "      <th>3</th>\n",
       "      <td>-261.534882</td>\n",
       "      <td>-132.396345</td>\n",
       "    </tr>\n",
       "    <tr>\n",
       "      <th>4</th>\n",
       "      <td>-261.634485</td>\n",
       "      <td>-131.508928</td>\n",
       "    </tr>\n",
       "    <tr>\n",
       "      <th>...</th>\n",
       "      <td>...</td>\n",
       "      <td>...</td>\n",
       "    </tr>\n",
       "    <tr>\n",
       "      <th>124</th>\n",
       "      <td>-287.822174</td>\n",
       "      <td>-28.032836</td>\n",
       "    </tr>\n",
       "    <tr>\n",
       "      <th>125</th>\n",
       "      <td>-288.188534</td>\n",
       "      <td>-27.218458</td>\n",
       "    </tr>\n",
       "    <tr>\n",
       "      <th>126</th>\n",
       "      <td>-288.557860</td>\n",
       "      <td>-26.405422</td>\n",
       "    </tr>\n",
       "    <tr>\n",
       "      <th>127</th>\n",
       "      <td>-288.930163</td>\n",
       "      <td>-25.593744</td>\n",
       "    </tr>\n",
       "    <tr>\n",
       "      <th>128</th>\n",
       "      <td>-289.305456</td>\n",
       "      <td>-24.783445</td>\n",
       "    </tr>\n",
       "  </tbody>\n",
       "</table>\n",
       "<p>129 rows × 2 columns</p>\n",
       "</div>"
      ],
      "text/plain": [
       "         path_x      path_z\n",
       "0   -261.245200 -135.059600\n",
       "1   -261.340249 -134.171685\n",
       "2   -261.436807 -133.283932\n",
       "3   -261.534882 -132.396345\n",
       "4   -261.634485 -131.508928\n",
       "..          ...         ...\n",
       "124 -287.822174  -28.032836\n",
       "125 -288.188534  -27.218458\n",
       "126 -288.557860  -26.405422\n",
       "127 -288.930163  -25.593744\n",
       "128 -289.305456  -24.783445\n",
       "\n",
       "[129 rows x 2 columns]"
      ]
     },
     "execution_count": 13,
     "metadata": {},
     "output_type": "execute_result"
    }
   ],
   "source": [
    "path[0:129]"
   ]
  },
  {
   "cell_type": "code",
   "execution_count": 23,
   "metadata": {},
   "outputs": [],
   "source": [
    "def relative_headings(path, headings, waypoints, skip=1):\n",
    "\n",
    "    num_headings = path.shape[0]\n",
    "    num_waypoints = waypoints.shape[0]\n",
    "\n",
    "    headings_per_waypoint = int(num_headings / num_waypoints)\n",
    "\n",
    "    # Shift the entire array of waypoints to the one that influences gaze.\n",
    "    # Default is to skip 1 (the next waypoint after the immediate one).\n",
    "    waypoints = np.roll(waypoints, shift=-skip)\n",
    "\n",
    "    relative_headings = np.zeros(num_headings, dtype=np.float32)\n",
    "\n",
    "    for i in range(num_headings):\n",
    "        waypoint_id = np.floor(i / headings_per_waypoint)\n",
    "        absolute_heading = waypoints[waypoint_id] - path[i]\n",
    "        relative_headings[i] = np.dot(headings[i], absolute_heading) / (np.linalg.norm(headings[i]) * np.linalg.norm(absolute_heading))\n",
    "\n",
    "    return headings_per_waypoint"
   ]
  },
  {
   "cell_type": "code",
   "execution_count": 24,
   "metadata": {},
   "outputs": [
    {
     "ename": "IndexError",
     "evalue": "only integers, slices (`:`), ellipsis (`...`), numpy.newaxis (`None`) and integer or boolean arrays are valid indices",
     "output_type": "error",
     "traceback": [
      "\u001b[0;31m---------------------------------------------------------------------------\u001b[0m",
      "\u001b[0;31mIndexError\u001b[0m                                Traceback (most recent call last)",
      "Cell \u001b[0;32mIn[24], line 1\u001b[0m\n\u001b[0;32m----> 1\u001b[0m headings \u001b[38;5;241m=\u001b[39m \u001b[43mrelative_headings\u001b[49m\u001b[43m(\u001b[49m\u001b[43mpath\u001b[49m\u001b[38;5;241;43m=\u001b[39;49m\u001b[43mpath\u001b[49m\u001b[43m,\u001b[49m\u001b[43m \u001b[49m\u001b[43mheadings\u001b[49m\u001b[38;5;241;43m=\u001b[39;49m\u001b[43mheadings\u001b[49m\u001b[43m,\u001b[49m\u001b[43m \u001b[49m\u001b[43mwaypoints\u001b[49m\u001b[38;5;241;43m=\u001b[39;49m\u001b[43mwaypoints\u001b[49m\u001b[43m)\u001b[49m\n",
      "Cell \u001b[0;32mIn[23], line 16\u001b[0m, in \u001b[0;36mrelative_headings\u001b[0;34m(path, headings, waypoints, skip)\u001b[0m\n\u001b[1;32m     14\u001b[0m \u001b[38;5;28;01mfor\u001b[39;00m i \u001b[38;5;129;01min\u001b[39;00m \u001b[38;5;28mrange\u001b[39m(num_headings):\n\u001b[1;32m     15\u001b[0m     waypoint_id \u001b[38;5;241m=\u001b[39m np\u001b[38;5;241m.\u001b[39mfloor(i \u001b[38;5;241m/\u001b[39m headings_per_waypoint)\n\u001b[0;32m---> 16\u001b[0m     absolute_heading \u001b[38;5;241m=\u001b[39m \u001b[43mwaypoints\u001b[49m\u001b[43m[\u001b[49m\u001b[43mwaypoint_id\u001b[49m\u001b[43m]\u001b[49m \u001b[38;5;241m-\u001b[39m path[i]\n\u001b[1;32m     17\u001b[0m     relative_headings[i] \u001b[38;5;241m=\u001b[39m np\u001b[38;5;241m.\u001b[39mdot(headings[i], absolute_heading) \u001b[38;5;241m/\u001b[39m (np\u001b[38;5;241m.\u001b[39mlinalg\u001b[38;5;241m.\u001b[39mnorm(headings[i]) \u001b[38;5;241m*\u001b[39m np\u001b[38;5;241m.\u001b[39mlinalg\u001b[38;5;241m.\u001b[39mnorm(absolute_heading))\n\u001b[1;32m     19\u001b[0m \u001b[38;5;28;01mreturn\u001b[39;00m headings_per_waypoint\n",
      "\u001b[0;31mIndexError\u001b[0m: only integers, slices (`:`), ellipsis (`...`), numpy.newaxis (`None`) and integer or boolean arrays are valid indices"
     ]
    }
   ],
   "source": [
    "\n",
    "\n",
    "rel_headings = relative_headings(path=path, headings=headings, waypoints=waypoints)"
   ]
  },
  {
   "cell_type": "code",
   "execution_count": 18,
   "metadata": {},
   "outputs": [
    {
     "data": {
      "text/plain": [
       "128"
      ]
     },
     "execution_count": 18,
     "metadata": {},
     "output_type": "execute_result"
    }
   ],
   "source": [
    "headings"
   ]
  },
  {
   "cell_type": "code",
   "execution_count": null,
   "metadata": {},
   "outputs": [],
   "source": []
  }
 ],
 "metadata": {
  "kernelspec": {
   "display_name": "Python 3",
   "language": "python",
   "name": "python3"
  },
  "language_info": {
   "codemirror_mode": {
    "name": "ipython",
    "version": 3
   },
   "file_extension": ".py",
   "mimetype": "text/x-python",
   "name": "python",
   "nbconvert_exporter": "python",
   "pygments_lexer": "ipython3",
   "version": "3.10.12"
  }
 },
 "nbformat": 4,
 "nbformat_minor": 2
}
