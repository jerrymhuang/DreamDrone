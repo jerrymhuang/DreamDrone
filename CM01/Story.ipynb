{
 "cells": [
  {
   "cell_type": "code",
   "execution_count": 1,
   "metadata": {},
   "outputs": [],
   "source": [
    "import numpy as np\n",
    "import matplotlib.pyplot as plt\n",
    "from tabulate import tabulate\n",
    "\n",
    "np.set_printoptions(suppress=True)"
   ]
  },
  {
   "cell_type": "markdown",
   "metadata": {},
   "source": [
    "# Bayesian Story"
   ]
  },
  {
   "cell_type": "code",
   "execution_count": 79,
   "metadata": {},
   "outputs": [],
   "source": [
    "def draw_joint(prior_probs, a_probs, b_probs, d_probs, n):\n",
    "    \n",
    "    #P(A|B) is probability of any apartment given black trash bags\n",
    "    \n",
    "    #Get random values for prior probability (only once)\n",
    "    priors = np.random.rand(n)\n",
    "    \n",
    "    #Find simulated probability each apartment left trash bags\n",
    "    a = list(priors <= prior_probs[0]).count(True) / n\n",
    "    d = list(priors > prior_probs[0] + prior_probs[1]).count(True) / n\n",
    "    b = 1 - (a + d)\n",
    "    \n",
    "    #Find simulated probability each apartment left black trash bags\n",
    "    bl_prior = np.array(([priors <= a_probs[0], priors <= b_probs[0], \n",
    "               priors <= d_probs[0]]))\n",
    "    \n",
    "    count_true = lambda x: sum(x)\n",
    "    bl_prob = count_true(bl_prior.T)\n",
    "    \n",
    "    #Multiply likelihood by prior\n",
    "    black = np.multiply(np.array(([a, b, d])), bl_prob)\n",
    "    \n",
    "    #Find marginal probability any apartment uses black trash bags\n",
    "    bl_marg = sum(black)\n",
    "\n",
    "    #Calculate posterior for each apartment\n",
    "    return black / bl_marg"
   ]
  },
  {
   "cell_type": "code",
   "execution_count": 138,
   "metadata": {},
   "outputs": [],
   "source": [
    "#Initialize variables from story\n",
    "prior_probs = (0.1, 0.15, 0.75)\n",
    "\n",
    "a_probs = (0.5, 0.1, 0.4)\n",
    "b_probs = (0.35, 0.3, 0.35)\n",
    "d_probs = (0.9, 0.05, 0.05)\n",
    "\n",
    "#Call the function to draw probabilities\n",
    "posts = draw_joint(prior_probs, a_probs, b_probs, d_probs, 20000)"
   ]
  },
  {
   "cell_type": "code",
   "execution_count": 139,
   "metadata": {},
   "outputs": [
    {
     "name": "stdout",
     "output_type": "stream",
     "text": [
      "+---+---------------------+\n",
      "| A | 0.06636518524501057 |\n",
      "| B | 0.06751624524979079 |\n",
      "| D | 0.8661185695051986  |\n",
      "+---+---------------------+\n"
     ]
    }
   ],
   "source": [
    "#Print a table\n",
    "table = [[\"A\", posts[0]], [\"B\", posts[1]], [\"D\", posts[2]]]\n",
    "print(tabulate(table, tablefmt=\"pretty\"))"
   ]
  }
 ],
 "metadata": {
  "kernelspec": {
   "display_name": "Python 3 (ipykernel)",
   "language": "python",
   "name": "python3"
  },
  "language_info": {
   "codemirror_mode": {
    "name": "ipython",
    "version": 3
   },
   "file_extension": ".py",
   "mimetype": "text/x-python",
   "name": "python",
   "nbconvert_exporter": "python",
   "pygments_lexer": "ipython3",
   "version": "3.11.5"
  }
 },
 "nbformat": 4,
 "nbformat_minor": 2
}
