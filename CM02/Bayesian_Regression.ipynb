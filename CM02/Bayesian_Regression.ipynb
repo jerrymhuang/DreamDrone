{
 "cells": [
  {
   "cell_type": "code",
   "execution_count": 1,
   "metadata": {},
   "outputs": [],
   "source": [
    "import numpy as np\n",
    "import matplotlib.pyplot as plt\n",
    "import seaborn as sns\n",
    "\n",
    "import arviz as az\n",
    "import stan"
   ]
  },
  {
   "cell_type": "markdown",
   "metadata": {},
   "source": [
    "# Simple Bayesian Regression Model"
   ]
  },
  {
   "cell_type": "markdown",
   "metadata": {},
   "source": [
    "Next, we will build a simple Bayesian regression model of the form:\n",
    "$$\n",
    "\\begin{align}\n",
    "    \\nonumber \\sigma^2 &\\sim \\text{Inv-Gamma}(1, 1)\\\\\n",
    "    \\nonumber \\alpha &\\sim \\mathcal{N}(0, 5)\\\\\n",
    "    \\nonumber \\beta &\\sim \\mathcal{N}(0, 5)\\\\\n",
    "\\nonumber y_n &\\sim \\mathcal{N}(\\alpha + \\beta\\,x_n, \\sigma^2) \\quad \\text{for} \\,\\, n = 1,\\dots,N\n",
    "\\end{align}\n",
    "$$"
   ]
  },
  {
   "cell_type": "code",
   "execution_count": 2,
   "metadata": {},
   "outputs": [],
   "source": [
    "#### Your code here\n",
    "\n",
    "br_program = \"\"\" \n",
    "data {\n",
    "    int<lower=1> N;\n",
    "    vector[N] x;\n",
    "    vector[N] y;\n",
    "}\n",
    "\n",
    "parameters {\n",
    "    real alpha;\n",
    "    real beta;\n",
    "    real<lower=0> sigma2;\n",
    "}\n",
    "\n",
    "transformed parameters {\n",
    "    real sigma;\n",
    "    sigma = sqrt(sigma2);\n",
    "}\n",
    "\n",
    "model {\n",
    "    // Priors\n",
    "\n",
    "\n",
    "    // Likelihood\n",
    "    \n",
    "}\n",
    "\"\"\""
   ]
  },
  {
   "cell_type": "code",
   "execution_count": null,
   "metadata": {},
   "outputs": [],
   "source": []
  }
 ],
 "metadata": {
  "kernelspec": {
   "display_name": "Python 3",
   "language": "python",
   "name": "python3"
  },
  "language_info": {
   "codemirror_mode": {
    "name": "ipython",
    "version": 3
   },
   "file_extension": ".py",
   "mimetype": "text/x-python",
   "name": "python",
   "nbconvert_exporter": "python",
   "pygments_lexer": "ipython3",
   "version": "3.10.12"
  }
 },
 "nbformat": 4,
 "nbformat_minor": 2
}
