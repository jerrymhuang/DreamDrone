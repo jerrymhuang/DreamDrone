{
 "cells": [
  {
   "cell_type": "code",
   "execution_count": 1,
   "metadata": {},
   "outputs": [],
   "source": [
    "import numpy as np\n",
    "import matplotlib.pyplot as plt\n",
    "import seaborn as sns\n",
    "from numba import njit "
   ]
  },
  {
   "cell_type": "markdown",
   "metadata": {},
   "source": [
    "# The Feedforward Inhibition (FFI) Model\n",
    "\n",
    "In this notebook, we will implement the feedforward inhibition model as adapted from (Turner et al., 2016). The model can be formulated as follows:\n",
    "\n",
    "$$\n",
    "\\begin{align}\n",
    "    \\mathrm{d}X_i    &= (v_i - I_f(i))\\mathrm{d}t + \\sigma \\mathrm{d}W_t, \\\\\n",
    "    I_f(i)  &= \\frac{\\alpha}{J - 1} \\sum_{j \\neq i}^J v_j, \\\\\n",
    "    X_{it}  &= \\max{\\{X_{it}, 0\\}},\n",
    "\\end{align}\n",
    "$$\n",
    "\n",
    "where\n",
    "1) $\\mathrm{d}X_i$ -- infinitesimal change in activation of the $i$-th accumulator;\n",
    "2) $v_i$ -- drift rate of the $i$-th accumulator;\n",
    "3) $I_f(i)$ -- feed-forward term for the $i$-th accumulator;\n",
    "4) $\\mathrm{d}t$ -- time step;\n",
    "5) $\\sigma$ -- variance for the diffusion coefficient;\n",
    "6) "
   ]
  },
  {
   "cell_type": "code",
   "execution_count": 3,
   "metadata": {},
   "outputs": [],
   "source": [
    "def simulate_ffi(v, x0, a, alpha, tau, dt=1e-3, scale=1.0, max_time=10.):\n",
    "    \"\"\"\n",
    "    Simulates one realization of the diffusion process given\n",
    "    a set of parameters and a step size `dt`.\n",
    "\n",
    "    Parameters:\n",
    "    -----------\n",
    "    v     : np.ndarray\n",
    "        The drift rates (rates of information uptake)\n",
    "    x0    : np.ndarray\n",
    "        The starting points\n",
    "    a     : float\n",
    "        The boundary separation (decision threshold).\n",
    "    beta  : float in [0, inf+)\n",
    "        Inhibition parameter\n",
    "    kappa : float in [0, 1]\n",
    "        Leakage parameter\n",
    "    tau   : float [0 , inf+)\n",
    "        Non-decision time (additive constant)\n",
    "    dt    : float, optional (default: 1e-3 = 0.001)\n",
    "        The step size for the Euler algorithm.\n",
    "    scale : float, optional (default: 1.0)\n",
    "        The scale (sqrt(var)) of the Wiener process. Not considered\n",
    "        a parameter and typically fixed to either 1.0 or 0.1.\n",
    "    max_time: float, optional (default: 10.)\n",
    "        The maximum number of seconds before forced termination.\n",
    "\n",
    "    Returns:\n",
    "    --------\n",
    "    (x, c) - a tuple of response time (y - float) and a \n",
    "        binary decision (c - int) \n",
    "    \"\"\"\n",
    "\n",
    "    # Initial conditions\n",
    "    num_steps = tau\n",
    "    const = scale * np.sqrt(dt)\n",
    "    x = x0.copy()\n",
    "    assert x.shape[0] == v.shape[0]\n",
    "    J = x0.shape[0]\n",
    "\n",
    "    while num_steps <= max_time:\n",
    "\n",
    "        z = np.random.randn(J)\n",
    "\n",
    "        for j in range(J):\n",
    "            dx_j = (v[j] - (sum(x) - x[j]) * alpha / (J-1))*dt + const * z[j]\n",
    "            x[j] = max(x[j] + dx_j, 0)\n",
    "        \n",
    "                # Increment step counter\n",
    "        num_steps += dt\n",
    "\n",
    "        # Check for boundary hitting\n",
    "        if any(x >= a):\n",
    "            break\n",
    "    \n",
    "    return (round(num_steps, 3), x.argmax())\n",
    "\n",
    "def simulate_ffi_n(num_sims, **kwargs):\n",
    "    data = np.zeros((num_sims, 2))\n",
    "    for n in range(num_sims):\n",
    "        data[n, :] = simulate_ffi(**kwargs)\n",
    "    return data"
   ]
  },
  {
   "cell_type": "code",
   "execution_count": 6,
   "metadata": {},
   "outputs": [],
   "source": [
    "# Simulation parameters\n",
    "parameters = {\n",
    "    'v': np.array([1., 1., 3.]),\n",
    "    'x0': np.zeros(3),\n",
    "    'a': 1.,\n",
    "    'tau': 0.5,\n",
    "    'alpha': 0.6\n",
    "}\n",
    "\n",
    "# Simulator (for n_obs)\n",
    "sim_data = simulate_ffi_n(500, **parameters)"
   ]
  },
  {
   "cell_type": "code",
   "execution_count": 7,
   "metadata": {},
   "outputs": [
    {
     "data": {
      "image/png": "[encoded data removed]",
      "text/plain": [
       "<Figure size 800x400 with 1 Axes>"
      ]
     },
     "metadata": {},
     "output_type": "display_data"
    }
   ],
   "source": [
    "# Visualize empirical RT distribution\n",
    "f, ax = plt.subplots(1, 1, figsize=(8, 4))\n",
    "colors = ['#AA0000', '#00AA00', '#0000AA']\n",
    "for j in range(parameters['v'].shape[0]):\n",
    "    sns.histplot(sim_data[:, 0][sim_data[:, 1] == j], color=colors[j], label=f'Alternative {j}')\n",
    "ax.legend()\n",
    "sns.despine(ax=ax)\n",
    "ax.set_xlabel('Response time (s)', fontsize=16)\n",
    "ax.set_ylabel('')\n",
    "ax.set_yticklabels([])\n",
    "ax.set_yticks([])\n",
    "f.tight_layout()"
   ]
  },
  {
   "cell_type": "code",
   "execution_count": null,
   "metadata": {},
   "outputs": [],
   "source": []
  }
 ],
 "metadata": {
  "kernelspec": {
   "display_name": "Python 3",
   "language": "python",
   "name": "python3"
  },
  "language_info": {
   "codemirror_mode": {
    "name": "ipython",
    "version": 3
   },
   "file_extension": ".py",
   "mimetype": "text/x-python",
   "name": "python",
   "nbconvert_exporter": "python",
   "pygments_lexer": "ipython3",
   "version": "3.10.12"
  }
 },
 "nbformat": 4,
 "nbformat_minor": 2
}
